{
 "cells": [
  {
   "cell_type": "markdown",
   "source": "# Convolution as 'running scalar product'\n\nGiven the assumption of locality, stationarity, and compositionality, we can reduce the amount of computation for a matrix-vector multiplication by using a sparse (because local) Toeplitz/diagonal-constant (because stationary) scheme.\nIn this way we simply end up re-discovering the convolution operator.\n\nWe also recall that a scalar product is simply a un-normalised cosine distance, which tells us the *alignment* of two vectors.\nMore specifically, we compute the magnitude of the orthogonal projection of one vector onto the other, or *vice versa*.",
   "metadata": {
    "cell_id": "00000-2258ebe5-54ef-4ca6-a73d-1dd14bcf89b7",
    "deepnote_cell_type": "markdown"
   }
  },
  {
   "cell_type": "code",
   "metadata": {
    "cell_id": "00001-9c76534f-ce45-41ea-8784-fa94baec7cd3",
    "deepnote_to_be_reexecuted": false,
    "source_hash": "d6521056",
    "execution_start": 1622618633360,
    "execution_millis": 1365,
    "deepnote_cell_type": "code"
   },
   "source": "# Let's use a library we've included for reading audio:\nimport librosa",
   "execution_count": null,
   "outputs": [
    {
     "output_type": "error",
     "ename": "OSError",
     "evalue": "sndfile library not found",
     "traceback": [
      "\u001b[0;31m---------------------------------------------------------------------------\u001b[0m",
      "\u001b[0;31mOSError\u001b[0m                                   Traceback (most recent call last)",
      "\u001b[0;32m<ipython-input-7-1040fbc25f02>\u001b[0m in \u001b[0;36m<module>\u001b[0;34m\u001b[0m\n\u001b[1;32m      1\u001b[0m \u001b[0;31m# Let's use a library we've included for reading audio:\u001b[0m\u001b[0;34m\u001b[0m\u001b[0;34m\u001b[0m\u001b[0;34m\u001b[0m\u001b[0m\n\u001b[0;32m----> 2\u001b[0;31m \u001b[0;32mimport\u001b[0m \u001b[0mlibrosa\u001b[0m\u001b[0;34m\u001b[0m\u001b[0;34m\u001b[0m\u001b[0m\n\u001b[0m",
      "\u001b[0;32m~/venv/lib/python3.7/site-packages/librosa/__init__.py\u001b[0m in \u001b[0;36m<module>\u001b[0;34m\u001b[0m\n\u001b[1;32m    209\u001b[0m \u001b[0;31m# And all the librosa sub-modules\u001b[0m\u001b[0;34m\u001b[0m\u001b[0;34m\u001b[0m\u001b[0;34m\u001b[0m\u001b[0m\n\u001b[1;32m    210\u001b[0m \u001b[0;32mfrom\u001b[0m \u001b[0;34m.\u001b[0m\u001b[0m_cache\u001b[0m \u001b[0;32mimport\u001b[0m \u001b[0mcache\u001b[0m\u001b[0;34m\u001b[0m\u001b[0;34m\u001b[0m\u001b[0m\n\u001b[0;32m--> 211\u001b[0;31m \u001b[0;32mfrom\u001b[0m \u001b[0;34m.\u001b[0m \u001b[0;32mimport\u001b[0m \u001b[0mcore\u001b[0m\u001b[0;34m\u001b[0m\u001b[0;34m\u001b[0m\u001b[0m\n\u001b[0m\u001b[1;32m    212\u001b[0m \u001b[0;32mfrom\u001b[0m \u001b[0;34m.\u001b[0m \u001b[0;32mimport\u001b[0m \u001b[0mbeat\u001b[0m\u001b[0;34m\u001b[0m\u001b[0;34m\u001b[0m\u001b[0m\n\u001b[1;32m    213\u001b[0m \u001b[0;32mfrom\u001b[0m \u001b[0;34m.\u001b[0m \u001b[0;32mimport\u001b[0m \u001b[0mdecompose\u001b[0m\u001b[0;34m\u001b[0m\u001b[0;34m\u001b[0m\u001b[0m\n",
      "\u001b[0;32m~/venv/lib/python3.7/site-packages/librosa/core/__init__.py\u001b[0m in \u001b[0;36m<module>\u001b[0;34m\u001b[0m\n\u001b[1;32m      4\u001b[0m \u001b[0;34m\u001b[0m\u001b[0m\n\u001b[1;32m      5\u001b[0m \u001b[0;32mfrom\u001b[0m \u001b[0;34m.\u001b[0m\u001b[0mconvert\u001b[0m \u001b[0;32mimport\u001b[0m \u001b[0;34m*\u001b[0m  \u001b[0;31m# pylint: disable=wildcard-import\u001b[0m\u001b[0;34m\u001b[0m\u001b[0;34m\u001b[0m\u001b[0m\n\u001b[0;32m----> 6\u001b[0;31m \u001b[0;32mfrom\u001b[0m \u001b[0;34m.\u001b[0m\u001b[0maudio\u001b[0m \u001b[0;32mimport\u001b[0m \u001b[0;34m*\u001b[0m  \u001b[0;31m# pylint: disable=wildcard-import\u001b[0m\u001b[0;34m\u001b[0m\u001b[0;34m\u001b[0m\u001b[0m\n\u001b[0m\u001b[1;32m      7\u001b[0m \u001b[0;32mfrom\u001b[0m \u001b[0;34m.\u001b[0m\u001b[0mspectrum\u001b[0m \u001b[0;32mimport\u001b[0m \u001b[0;34m*\u001b[0m  \u001b[0;31m# pylint: disable=wildcard-import\u001b[0m\u001b[0;34m\u001b[0m\u001b[0;34m\u001b[0m\u001b[0m\n\u001b[1;32m      8\u001b[0m \u001b[0;32mfrom\u001b[0m \u001b[0;34m.\u001b[0m\u001b[0mpitch\u001b[0m \u001b[0;32mimport\u001b[0m \u001b[0;34m*\u001b[0m  \u001b[0;31m# pylint: disable=wildcard-import\u001b[0m\u001b[0;34m\u001b[0m\u001b[0;34m\u001b[0m\u001b[0m\n",
      "\u001b[0;32m~/venv/lib/python3.7/site-packages/librosa/core/audio.py\u001b[0m in \u001b[0;36m<module>\u001b[0;34m\u001b[0m\n\u001b[1;32m      6\u001b[0m \u001b[0;32mimport\u001b[0m \u001b[0mwarnings\u001b[0m\u001b[0;34m\u001b[0m\u001b[0;34m\u001b[0m\u001b[0m\n\u001b[1;32m      7\u001b[0m \u001b[0;34m\u001b[0m\u001b[0m\n\u001b[0;32m----> 8\u001b[0;31m \u001b[0;32mimport\u001b[0m \u001b[0msoundfile\u001b[0m \u001b[0;32mas\u001b[0m \u001b[0msf\u001b[0m\u001b[0;34m\u001b[0m\u001b[0;34m\u001b[0m\u001b[0m\n\u001b[0m\u001b[1;32m      9\u001b[0m \u001b[0;32mimport\u001b[0m \u001b[0maudioread\u001b[0m\u001b[0;34m\u001b[0m\u001b[0;34m\u001b[0m\u001b[0m\n\u001b[1;32m     10\u001b[0m \u001b[0;32mimport\u001b[0m \u001b[0mnumpy\u001b[0m \u001b[0;32mas\u001b[0m \u001b[0mnp\u001b[0m\u001b[0;34m\u001b[0m\u001b[0;34m\u001b[0m\u001b[0m\n",
      "\u001b[0;32m~/venv/lib/python3.7/site-packages/soundfile.py\u001b[0m in \u001b[0;36m<module>\u001b[0;34m\u001b[0m\n\u001b[1;32m    140\u001b[0m     \u001b[0m_libname\u001b[0m \u001b[0;34m=\u001b[0m \u001b[0m_find_library\u001b[0m\u001b[0;34m(\u001b[0m\u001b[0;34m'sndfile'\u001b[0m\u001b[0;34m)\u001b[0m\u001b[0;34m\u001b[0m\u001b[0;34m\u001b[0m\u001b[0m\n\u001b[1;32m    141\u001b[0m     \u001b[0;32mif\u001b[0m \u001b[0m_libname\u001b[0m \u001b[0;32mis\u001b[0m \u001b[0;32mNone\u001b[0m\u001b[0;34m:\u001b[0m\u001b[0;34m\u001b[0m\u001b[0;34m\u001b[0m\u001b[0m\n\u001b[0;32m--> 142\u001b[0;31m         \u001b[0;32mraise\u001b[0m \u001b[0mOSError\u001b[0m\u001b[0;34m(\u001b[0m\u001b[0;34m'sndfile library not found'\u001b[0m\u001b[0;34m)\u001b[0m\u001b[0;34m\u001b[0m\u001b[0;34m\u001b[0m\u001b[0m\n\u001b[0m\u001b[1;32m    143\u001b[0m     \u001b[0m_snd\u001b[0m \u001b[0;34m=\u001b[0m \u001b[0m_ffi\u001b[0m\u001b[0;34m.\u001b[0m\u001b[0mdlopen\u001b[0m\u001b[0;34m(\u001b[0m\u001b[0m_libname\u001b[0m\u001b[0;34m)\u001b[0m\u001b[0;34m\u001b[0m\u001b[0;34m\u001b[0m\u001b[0m\n\u001b[1;32m    144\u001b[0m \u001b[0;32mexcept\u001b[0m \u001b[0mOSError\u001b[0m\u001b[0;34m:\u001b[0m\u001b[0;34m\u001b[0m\u001b[0;34m\u001b[0m\u001b[0m\n",
      "\u001b[0;31mOSError\u001b[0m: sndfile library not found"
     ]
    }
   ]
  },
  {
   "cell_type": "code",
   "metadata": {
    "cell_id": "00002-3bd62765-fb0b-4ad4-a048-3b5db0236613",
    "deepnote_to_be_reexecuted": false,
    "source_hash": "289a5c11",
    "execution_start": 1622618585744,
    "execution_millis": 11,
    "deepnote_cell_type": "code"
   },
   "source": "# My input signal x == x[k], sampling of the real, time continuous, x(t)\nx, sampling_rate = librosa.load('./res/win_xp_shutdown.wav')",
   "execution_count": null,
   "outputs": [
    {
     "output_type": "error",
     "ename": "NameError",
     "evalue": "name 'librosa' is not defined",
     "traceback": [
      "\u001b[0;31m---------------------------------------------------------------------------\u001b[0m",
      "\u001b[0;31mNameError\u001b[0m                                 Traceback (most recent call last)",
      "\u001b[0;32m<ipython-input-2-aa02f13a6680>\u001b[0m in \u001b[0;36m<module>\u001b[0;34m\u001b[0m\n\u001b[1;32m      1\u001b[0m \u001b[0;31m# My input signal x == x[k], sampling of the real, time continuous, x(t)\u001b[0m\u001b[0;34m\u001b[0m\u001b[0;34m\u001b[0m\u001b[0;34m\u001b[0m\u001b[0m\n\u001b[0;32m----> 2\u001b[0;31m \u001b[0mx\u001b[0m\u001b[0;34m,\u001b[0m \u001b[0msampling_rate\u001b[0m \u001b[0;34m=\u001b[0m \u001b[0mlibrosa\u001b[0m\u001b[0;34m.\u001b[0m\u001b[0mload\u001b[0m\u001b[0;34m(\u001b[0m\u001b[0;34m'./res/win_xp_shutdown.wav'\u001b[0m\u001b[0;34m)\u001b[0m\u001b[0;34m\u001b[0m\u001b[0;34m\u001b[0m\u001b[0m\n\u001b[0m",
      "\u001b[0;31mNameError\u001b[0m: name 'librosa' is not defined"
     ]
    }
   ]
  },
  {
   "cell_type": "code",
   "metadata": {
    "tags": [],
    "cell_id": "00003-4b271f78-a8e9-40dc-9666-d4fa29c5ec1d",
    "deepnote_to_be_reexecuted": false,
    "source_hash": "399ed47f",
    "execution_start": 1622618599650,
    "execution_millis": 9,
    "deepnote_cell_type": "code"
   },
   "source": "print(\"Hello\")",
   "execution_count": null,
   "outputs": [
    {
     "name": "stdout",
     "text": "Hello\n",
     "output_type": "stream"
    }
   ]
  },
  {
   "cell_type": "code",
   "metadata": {
    "cell_id": "00003-f0b3339f-5604-40a9-b157-bd4313227ba0",
    "deepnote_cell_type": "code"
   },
   "source": "# Compute the temporal length of x(t)\nT = x.size / sampling_rate\nprint(\n    f'x[k] has {x.size} samples',\n    f'the sampling rate is {sampling_rate * 1e-3}kHz',\n    f'x(t) is {T:.1f}s long'\n    , sep='\\n')",
   "execution_count": null,
   "outputs": []
  },
  {
   "cell_type": "code",
   "metadata": {
    "cell_id": "00004-1caaf877-0839-46cf-ba06-d04951dc947a",
    "deepnote_cell_type": "code"
   },
   "source": "# Loading interactive visualisation...\nfrom res.plot_lib import set_default\nimport matplotlib.pyplot as plt\nimport numpy as np",
   "execution_count": null,
   "outputs": []
  },
  {
   "cell_type": "code",
   "metadata": {
    "cell_id": "00005-00a96848-28e2-4026-9a68-9876b0ded638",
    "deepnote_cell_type": "code"
   },
   "source": "# ... in 2 cells \nset_default(figsize=(16, 8))",
   "execution_count": null,
   "outputs": []
  },
  {
   "cell_type": "code",
   "metadata": {
    "cell_id": "00006-85f26841-4b33-4441-a38e-dd0c97ad3b5d",
    "deepnote_cell_type": "code"
   },
   "source": "# Create x(t) time span\ndt = 1 / sampling_rate\nt = np.r_[0:T:dt]",
   "execution_count": null,
   "outputs": []
  },
  {
   "cell_type": "markdown",
   "source": "Try zooming in, in the following chart, and see how the waveform looks like from very close!",
   "metadata": {
    "cell_id": "00007-1c543278-90ef-4229-8be1-59471057b6f7",
    "deepnote_cell_type": "markdown"
   }
  },
  {
   "cell_type": "code",
   "metadata": {
    "cell_id": "00008-56e096ed-2763-4ef5-a762-ed390c7877f6",
    "deepnote_cell_type": "code"
   },
   "source": "# Visualise x(t)\nplt.figure()\nplt.plot(t, x)\nplt.xlabel('time [s]')\nplt.ylabel('amplitude [/]')\nplt.title(r'$x(t)$', size=20);",
   "execution_count": null,
   "outputs": []
  },
  {
   "cell_type": "code",
   "metadata": {
    "cell_id": "00009-391eb079-cf56-4c3f-b9ab-6f97e5a08358",
    "deepnote_cell_type": "code"
   },
   "source": "# Import Jupyter utilities for playing audio\nfrom IPython.display import display, Audio",
   "execution_count": null,
   "outputs": []
  },
  {
   "cell_type": "code",
   "metadata": {
    "cell_id": "00010-50b8773a-c69b-4b50-b8ca-76a1b862acf1",
    "deepnote_cell_type": "code"
   },
   "source": "# Let's listen to x(t)\nAudio(x, rate=sampling_rate)",
   "execution_count": null,
   "outputs": []
  },
  {
   "cell_type": "markdown",
   "source": "![score](res/score.png)",
   "metadata": {
    "cell_id": "00011-29bc6787-f47d-40c6-93d0-4ff5beba2f50",
    "deepnote_cell_type": "markdown"
   }
  },
  {
   "cell_type": "code",
   "metadata": {
    "cell_id": "00012-391448e7-e62c-4e11-9faf-a12ea2f6e18e",
    "deepnote_cell_type": "code"
   },
   "source": "# Compute Short-time Fourier transform (STFT) and convert the amplitude to dB\nX = librosa.stft(x)\nX_dB = librosa.amplitude_to_db(np.abs(X))",
   "execution_count": null,
   "outputs": []
  },
  {
   "cell_type": "code",
   "metadata": {
    "cell_id": "00013-7d5ce1cf-6b06-42e1-b821-7d15406dc352",
    "deepnote_cell_type": "code"
   },
   "source": "# Import the spectroscope function...\nfrom librosa.display import specshow",
   "execution_count": null,
   "outputs": []
  },
  {
   "cell_type": "code",
   "metadata": {
    "cell_id": "00014-5f5f5f1e-58cb-47c9-a2a8-674871bb5d73",
    "deepnote_cell_type": "code"
   },
   "source": "# ... and plot\nplt.figure()\nplt.subplot(2,1,1)\nplt.plot(t, x)\nplt.xlim([0, T])\nplt.ylabel('amplitude [/]')\nplt.title('Audio signal x(t) and its spectrogram X(t)')\nplt.setp(plt.gca().get_xticklabels(), visible=False)\nplt.subplot(2,1,2)\nspecshow(X_dB, sr=sampling_rate, x_axis='time', y_axis='hz')\nplt.xlabel('time [s]')\nplt.ylabel('frequency [Hz]')\nplt.ylim(top=2000)\nplt.grid(True)",
   "execution_count": null,
   "outputs": []
  },
  {
   "cell_type": "code",
   "metadata": {
    "cell_id": "00015-c34c8694-3663-45d5-b8b2-84a04f752342",
    "deepnote_cell_type": "code"
   },
   "source": "# Manual recontruction of the melody:\n# pick the melody frequencies/notes from the spectrogram above\nAb6 = 1661  # Hz\nEb6 = 1244  # Hz\nAb5 = 830   # Hz\nBb5 = 932   # Hz\nTT = .4  # s\ntt = np.r_[0:TT:dt]\n\n# generate tones\nA = {\n    'a^(1)': np.sin(2 * np.pi * Ab6 * tt),\n    'a^(2)': np.sin(2 * np.pi * Eb6 * tt),\n    'a^(3)': np.sin(2 * np.pi * Ab5 * tt),\n    'a^(4)': np.sin(2 * np.pi * Bb5 * tt),\n}\n\n# and concatenate them\nxx = np.concatenate([a[1] for a in A.items()])",
   "execution_count": null,
   "outputs": []
  },
  {
   "cell_type": "code",
   "metadata": {
    "cell_id": "00016-836833da-8882-4b43-87ea-899b5c67d4c1",
    "deepnote_cell_type": "code"
   },
   "source": "# Let's listen to the original and the reconstructed\ndisplay(Audio(x, rate=sampling_rate))\ndisplay(Audio(xx, rate=sampling_rate))",
   "execution_count": null,
   "outputs": []
  },
  {
   "cell_type": "code",
   "metadata": {
    "cell_id": "00017-0a844095-55a3-4790-864c-71baed2712bc",
    "deepnote_cell_type": "code"
   },
   "source": "# Let's compute the STFT of the reconstruction\nXX = librosa.stft(xx)\nXX_dB = librosa.amplitude_to_db(np.abs(XX))",
   "execution_count": null,
   "outputs": []
  },
  {
   "cell_type": "code",
   "metadata": {
    "cell_id": "00018-c93b17eb-d282-4562-b4d5-ece2e97d9dd0",
    "deepnote_cell_type": "code"
   },
   "source": "# ... and plot both X(t) and XX(t)\nplt.figure()\nt_string = r'$0\\mathrm{s} \\leq t \\leq 1.6\\mathrm{s}$'\n\nplt.subplot(1,2,1)\nspecshow(X_dB, sr=sampling_rate, x_axis='time', y_axis='hz')\nplt.ylim(ymax=2000)\nplt.ylabel('frequency [Hz]')\nplt.xlabel('time [s]')\nplt.grid(True)\nplt.xlim(right=1.6)\nplt.title(r'$X(t),\\; $' + t_string, size=20)\n\nplt.subplot(1,2,2)\nspecshow(XX_dB, sr=sampling_rate, x_axis='time', y_axis='hz')\nplt.setp(plt.gca().get_yticklabels(), visible=False)\nplt.xlabel('time [s]')\nplt.ylim(top=2000)\nplt.ylabel('')\nplt.grid(True)\nplt.title(r'$\\hat X(t),\\; $' + t_string, size=20);",
   "execution_count": null,
   "outputs": []
  },
  {
   "cell_type": "code",
   "metadata": {
    "cell_id": "00019-cdf99570-0404-4904-939f-542c6e2e4ea4",
    "deepnote_cell_type": "code"
   },
   "source": "# What about in the time domain? Let's plot x(t) and a^(i)(t)\nplt.figure()\nplt.subplot(5, 1, 1)\nplt.title('x(t), first melody\\'s note')\nplt.plot(x, 'C1')\nplt.xlim([500, 600])\nplt.ylim([-.2, .2])\ni = 2\nfor a in A.items():\n    plt.subplot(5, 1, i)\n    i += 1\n    plt.plot(a[1])\n    plt.xlim([0, 100])\n    plt.title(a[0], verticalalignment='top', backgroundcolor='black')\n    if i < 6: \n        plt.setp(plt.gca().get_xticklabels(), visible=False)\n\nplt.ylabel('amplitude [/]')\nplt.xlabel('samples [/]')",
   "execution_count": null,
   "outputs": []
  },
  {
   "cell_type": "code",
   "metadata": {
    "cell_id": "00020-425858c3-1d36-45fc-9f43-96b158e8aa93",
    "deepnote_cell_type": "code"
   },
   "source": "# Finally, let's convolve each tune a^(i) with x(t)\nplt.figure()\nconvs = list()\nn = 1\nfor a in A.items():\n    plt.subplot(4, 1, n)\n    plt.title(rf'$x(t) \\star a^{{({n})}}(t)$', backgroundcolor='black', verticalalignment='top', size=17)\n    n += 1\n    convs.append(np.convolve(x, a[1], mode='same'))\n    plt.plot(t, convs[-1])\n    if n < 5: \n        plt.setp(plt.gca().get_xticklabels(), visible=False)\nplt.ylabel('amplitude [/]')\nplt.xlabel('time [s]')",
   "execution_count": null,
   "outputs": []
  },
  {
   "cell_type": "code",
   "metadata": {
    "scrolled": true,
    "cell_id": "00021-58d0b7dc-c779-44c9-950e-62a0d019cd99",
    "deepnote_cell_type": "code"
   },
   "source": "# Finally, let's listen to these convolutions!\nfor c in convs:\n    display(Audio(c, rate=sampling_rate))",
   "execution_count": null,
   "outputs": []
  },
  {
   "cell_type": "markdown",
   "source": "<a style='text-decoration:none;line-height:16px;display:flex;color:#5B5B62;padding:10px;justify-content:end;' href='https://deepnote.com?utm_source=created-in-deepnote-cell&projectId=310d7331-290c-4084-b4b3-9339860041ff' target=\"_blank\">\n<img alt='Created in deepnote.com' style='display:inline;max-height:16px;margin:0px;margin-right:7.5px;' src='data:image/svg+xml;base64,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' > </img>\nCreated in <span style='font-weight:600;margin-left:4px;'>Deepnote</span></a>",
   "metadata": {
    "tags": [],
    "created_in_deepnote_cell": true,
    "deepnote_cell_type": "markdown"
   }
  }
 ],
 "nbformat": 4,
 "nbformat_minor": 4,
 "metadata": {
  "kernelspec": {
   "display_name": "Python [conda env:dl-minicourse] *",
   "language": "python",
   "name": "conda-env-dl-minicourse-py"
  },
  "language_info": {
   "codemirror_mode": {
    "name": "ipython",
    "version": 3
   },
   "file_extension": ".py",
   "mimetype": "text/x-python",
   "name": "python",
   "nbconvert_exporter": "python",
   "pygments_lexer": "ipython3",
   "version": "3.7.3"
  },
  "deepnote_notebook_id": "621974ee-b9e3-4873-b1d1-8803b10e678f",
  "deepnote": {},
  "deepnote_execution_queue": []
 }
}