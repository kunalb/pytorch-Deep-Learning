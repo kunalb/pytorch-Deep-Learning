{
 "cells": [
  {
   "cell_type": "markdown",
   "source": "\n# What is PyTorch?\n\nIt’s a Python based scientific computing package targeted at two sets of audiences:\n\n-  Tensorial library that uses the power of GPUs\n-  A deep learning research platform that provides maximum flexibility and speed\n\n## Import the library",
   "metadata": {
    "cell_id": "00000-b978766f-38ed-4cb2-ab81-50d03c0f2d1e",
    "deepnote_cell_type": "markdown"
   }
  },
  {
   "cell_type": "code",
   "metadata": {
    "cell_id": "00001-a379bf01-4a6e-4f98-b660-a8c345c25e4c",
    "deepnote_to_be_reexecuted": false,
    "source_hash": "d6948700",
    "execution_start": 1620834820269,
    "execution_millis": 1667,
    "deepnote_cell_type": "code"
   },
   "source": "import torch  # <Ctrl> / <Shift> + <Return>",
   "execution_count": null,
   "outputs": []
  },
  {
   "cell_type": "markdown",
   "source": "## Getting help in Jupyter",
   "metadata": {
    "cell_id": "00002-39668b82-7fec-4de4-8f75-80068530d0c3",
    "deepnote_cell_type": "markdown"
   }
  },
  {
   "cell_type": "code",
   "metadata": {
    "cell_id": "00003-169b7be6-3b49-47d6-a210-2705d52ddb95",
    "deepnote_to_be_reexecuted": false,
    "source_hash": "e46cbfda",
    "execution_start": 1620834824959,
    "execution_millis": 263,
    "deepnote_cell_type": "code"
   },
   "source": "torch.Shift  # <Tab>",
   "execution_count": null,
   "outputs": [
    {
     "output_type": "error",
     "ename": "AttributeError",
     "evalue": "module 'torch' has no attribute 'sq'",
     "traceback": [
      "\u001b[0;31m---------------------------------------------------------------------------\u001b[0m",
      "\u001b[0;31mAttributeError\u001b[0m                            Traceback (most recent call last)",
      "\u001b[0;32m<ipython-input-2-eef6cd7355b7>\u001b[0m in \u001b[0;36m<module>\u001b[0;34m\u001b[0m\n\u001b[0;32m----> 1\u001b[0;31m \u001b[0mtorch\u001b[0m\u001b[0;34m.\u001b[0m\u001b[0msq\u001b[0m  \u001b[0;31m# <Tab>\u001b[0m\u001b[0;34m\u001b[0m\u001b[0;34m\u001b[0m\u001b[0m\n\u001b[0m",
      "\u001b[0;31mAttributeError\u001b[0m: module 'torch' has no attribute 'sq'"
     ]
    }
   ]
  },
  {
   "cell_type": "code",
   "metadata": {
    "cell_id": "00004-4286fb14-97a9-4815-a44f-ded412a0af2e",
    "deepnote_to_be_reexecuted": false,
    "source_hash": "f683e54d",
    "execution_start": 1620834846674,
    "execution_millis": 0,
    "deepnote_cell_type": "code"
   },
   "source": "# What about all `*Tensor`s?\n# Press <esc> to get out of help\ntorch.*Tensor?",
   "execution_count": null,
   "outputs": []
  },
  {
   "cell_type": "code",
   "metadata": {
    "cell_id": "00005-e6e54589-44bd-4065-9b93-8970a9898795",
    "deepnote_to_be_reexecuted": false,
    "source_hash": "23d4ef1a",
    "execution_start": 1620834851289,
    "execution_millis": 16,
    "deepnote_cell_type": "code"
   },
   "source": "torch.nn.Module()  # <Shift>+<Tab>",
   "execution_count": null,
   "outputs": [
    {
     "output_type": "execute_result",
     "execution_count": 4,
     "data": {
      "text/plain": "Module()"
     },
     "metadata": {}
    }
   ]
  },
  {
   "cell_type": "code",
   "metadata": {
    "cell_id": "00006-1a2eac75-af76-4971-8011-cd300a46d17c",
    "deepnote_to_be_reexecuted": false,
    "source_hash": "fea912c5",
    "execution_start": 1620834855371,
    "execution_millis": 44,
    "deepnote_cell_type": "code"
   },
   "source": "# Annotate your functions / classes!\ntorch.nn.Module?",
   "execution_count": null,
   "outputs": []
  },
  {
   "cell_type": "code",
   "metadata": {
    "cell_id": "00007-338ee126-dd25-42c2-9ab0-c09376fcdcf0",
    "deepnote_to_be_reexecuted": false,
    "source_hash": "93cf559b",
    "execution_start": 1620834856262,
    "execution_millis": 233,
    "deepnote_cell_type": "code"
   },
   "source": "torch.nn.Module??",
   "execution_count": null,
   "outputs": []
  },
  {
   "cell_type": "markdown",
   "source": "## Dropping to Bash: magic!",
   "metadata": {
    "cell_id": "00008-33b9ff63-2e26-493c-9719-cb117b7a2ae1",
    "deepnote_cell_type": "markdown"
   }
  },
  {
   "cell_type": "code",
   "metadata": {
    "scrolled": true,
    "cell_id": "00009-066db1cf-773e-456e-8bc8-b9a6443ea253",
    "deepnote_to_be_reexecuted": false,
    "source_hash": "7c8f6f97",
    "execution_start": 1620834859183,
    "execution_millis": 686,
    "deepnote_cell_type": "code"
   },
   "source": "# List all the files in the current directory\n!ls -lh",
   "execution_count": null,
   "outputs": [
    {
     "name": "stdout",
     "text": "total 693K\r\n-rw-rw-r--  1 root root  38K May 12 15:39 00-logic_neuron_programming.ipynb\r\n-rw-rw-r--  1 root root  30K May 12 15:54 01-tensor_tutorial.ipynb\r\n-rw-r--r--  1 root root 6.6K May 12 12:23 02-space_stretching.ipynb\r\n-rw-r--r--  1 root root 6.7K May 12 12:23 03-autograd_tutorial.ipynb\r\n-rw-r--r--  1 root root 7.3K May 12 12:23 04-spiral_classification.ipynb\r\n-rw-r--r--  1 root root 9.4K May 12 12:23 05-regression.ipynb\r\n-rw-r--r--  1 root root  14K May 12 12:23 06-convnet.ipynb\r\n-rw-r--r--  1 root root 8.6K May 12 12:23 07-listening_to_kernels.ipynb\r\n-rw-r--r--  1 root root  24K May 12 12:23 08-seq_classification.ipynb\r\n-rw-r--r--  1 root root 7.2K May 12 12:23 09-echo_data.ipynb\r\n-rw-r--r--  1 root root 7.3K May 12 12:23 10-autoencoder.ipynb\r\n-rw-r--r--  1 root root  11K May 12 12:23 11-VAE.ipynb\r\n-rw-r--r--  1 root root  20K May 12 12:23 12-regularization.ipynb\r\n-rw-r--r--  1 root root 4.4K May 12 12:23 13-bayesian_nn.ipynb\r\n-rw-r--r--  1 root root  13K May 12 12:23 14-truck_backer-upper.ipynb\r\n-rw-r--r--  1 root root  26K May 12 12:23 15-transformer.ipynb\r\n-rw-r--r--  1 root root 604K May 12 12:23 16-gated_GCN.ipynb\r\n-rw-r--r--  1 root root   16 May 12 12:23 apt.txt\r\ndrwxr-xr-x 20 root root   26 May 12 12:23 docs\r\n-rw-r--r--  1 root root  274 May 12 12:23 environment.yml\r\ndrwxr-xr-x  3 root root    7 May 12 12:23 extra\r\n-rw-r--r--  1 root root  281 May 12 12:23 LICENSE.md\r\n-rw-r--r--  1 root root 3.7K May 12 12:23 README.md\r\ndrwxr-xr-x  2 root root   11 May 12 12:23 res\r\ndrwxr-xr-x  2 root root   16 May 12 12:23 slides\r\n",
     "output_type": "stream"
    }
   ]
  },
  {
   "cell_type": "code",
   "metadata": {
    "cell_id": "00010-a32ddb9d-89cd-4941-a670-597f9d0edf1f",
    "deepnote_to_be_reexecuted": false,
    "source_hash": "9b20a911",
    "execution_start": 1620834864608,
    "execution_millis": 91,
    "deepnote_cell_type": "code"
   },
   "source": "%%bash\n# List all the files but with cleaner outputs for readability\nfor f in $(ls *.*); do\n    echo $(wc -l $f)\ndone",
   "execution_count": null,
   "outputs": [
    {
     "name": "stdout",
     "text": "563 00-logic_neuron_programming.ipynb\n960 01-tensor_tutorial.ipynb\n273 02-space_stretching.ipynb\n331 03-autograd_tutorial.ipynb\n294 04-spiral_classification.ipynb\n362 05-regression.ipynb\n458 06-convnet.ipynb\n337 07-listening_to_kernels.ipynb\n660 08-seq_classification.ipynb\n255 09-echo_data.ipynb\n264 10-autoencoder.ipynb\n353 11-VAE.ipynb\n640 12-regularization.ipynb\n195 13-bayesian_nn.ipynb\n422 14-truck_backer-upper.ipynb\n772 15-transformer.ipynb\n1083 16-gated_GCN.ipynb\n1 apt.txt\n20 environment.yml\n4 LICENSE.md\n71 README.md\n",
     "output_type": "stream"
    }
   ]
  },
  {
   "cell_type": "code",
   "metadata": {
    "cell_id": "00011-cd53e206-e9e5-49c9-9fb1-85cf8ba8a7be",
    "deepnote_to_be_reexecuted": false,
    "source_hash": "9f0af2a4",
    "execution_start": 1620834911888,
    "execution_millis": 0,
    "deepnote_cell_type": "code"
   },
   "source": "# Getting some general help\n%magic",
   "execution_count": null,
   "outputs": []
  },
  {
   "cell_type": "markdown",
   "source": "## Python native data types\n\nPython has many native datatypes. Here are the important ones:\n\n - **Booleans** are either `True` or `False`.\n - **Numbers** can be integers (1 and 2), floats (1.1 and 1.2), fractions (1/2 and 2/3), or even complex numbers.\n - **Strings** are sequences of Unicode characters, e.g. an html document.\n - **Lists** are ordered sequences of values.\n - **Tuples** are ordered, immutable sequences of values.\n - **Sets** are unordered bags of values.\n - **Dictionaries** are unordered bags of key-value pairs.\n \nSee [here](http://www.diveintopython3.net/native-datatypes.html) for a complete overview.\n\n### More resources\n\n 1. Brief Python introduction [here](https://learnxinyminutes.com/docs/python3/).\n 2. Full Python tutorial [here](https://docs.python.org/3/tutorial/).\n 3. A Whirlwind Tour of Python [here](https://github.com/jakevdp/WhirlwindTourOfPython).\n 4. Python Data Science Handbook [here](https://github.com/jakevdp/PythonDataScienceHandbook).",
   "metadata": {
    "cell_id": "00012-2123fd64-df24-487b-ac18-c5f92dadecdb",
    "deepnote_cell_type": "markdown"
   }
  },
  {
   "cell_type": "markdown",
   "source": "## Torch!",
   "metadata": {
    "cell_id": "00013-9011d3d2-634b-4417-b521-74f2f7336bca",
    "deepnote_cell_type": "markdown"
   }
  },
  {
   "cell_type": "code",
   "metadata": {
    "cell_id": "00014-6c1a4ca4-1ded-4e20-9ed3-7deb8360fd14",
    "deepnote_to_be_reexecuted": false,
    "source_hash": "9ed9b294",
    "execution_start": 1620834920755,
    "execution_millis": 13,
    "deepnote_cell_type": "code"
   },
   "source": "# Generate a tensor of size 2x3x4\nt = torch.Tensor(2, 3, 4)\ntype(t)",
   "execution_count": null,
   "outputs": [
    {
     "output_type": "execute_result",
     "execution_count": 10,
     "data": {
      "text/plain": "torch.Tensor"
     },
     "metadata": {}
    }
   ]
  },
  {
   "cell_type": "code",
   "metadata": {
    "cell_id": "00015-3b3e513f-9dc5-4b11-b21e-b1ef8a5dfaf9",
    "deepnote_to_be_reexecuted": false,
    "source_hash": "d1b58292",
    "execution_start": 1620834923511,
    "execution_millis": 5,
    "deepnote_cell_type": "code"
   },
   "source": "# Get the size of the tensor\nt.size()",
   "execution_count": null,
   "outputs": [
    {
     "output_type": "execute_result",
     "execution_count": 11,
     "data": {
      "text/plain": "torch.Size([2, 3, 4])"
     },
     "metadata": {}
    }
   ]
  },
  {
   "cell_type": "code",
   "metadata": {
    "cell_id": "00016-8a431a61-4e65-4e77-bcaf-eb5a2eece40f",
    "deepnote_to_be_reexecuted": false,
    "source_hash": "fc99486f",
    "execution_start": 1620836496294,
    "execution_millis": 0,
    "deepnote_cell_type": "code"
   },
   "source": "# t.size() is a classic tuple =>\nprint('t size:', ' \\u00D7 '.join(map(str, t.size())))",
   "execution_count": null,
   "outputs": [
    {
     "name": "stdout",
     "text": "t size: 2 × 3 × 4\n",
     "output_type": "stream"
    }
   ]
  },
  {
   "cell_type": "code",
   "metadata": {
    "cell_id": "00017-ee306227-7294-457c-9b3b-da7e6aa45e7e",
    "deepnote_to_be_reexecuted": false,
    "source_hash": "1b047a48",
    "execution_start": 1620836501586,
    "execution_millis": 0,
    "deepnote_cell_type": "code"
   },
   "source": "# prints dimensional space and sub-dimensions\nprint(f'point in a {t.numel()} dimensional space')\nprint(f'organised in {t.dim()} sub-dimensions')",
   "execution_count": null,
   "outputs": [
    {
     "name": "stdout",
     "text": "point in a 24 dimensional space\norganised in 3 sub-dimensions\n",
     "output_type": "stream"
    }
   ]
  },
  {
   "cell_type": "code",
   "metadata": {
    "cell_id": "00018-7aa3ba33-9c02-4fdb-acb7-e43efe1472ba",
    "deepnote_to_be_reexecuted": false,
    "source_hash": "51b57d41",
    "execution_start": 1620836509396,
    "execution_millis": 0,
    "deepnote_cell_type": "code"
   },
   "source": "t",
   "execution_count": null,
   "outputs": [
    {
     "output_type": "execute_result",
     "execution_count": 14,
     "data": {
      "text/plain": "tensor([[[1.6880e+25, 2.5226e-18, 5.4411e-05, 4.1070e-08],\n         [5.3239e+22, 1.3295e+22, 4.1292e-05, 1.2802e-11],\n         [8.3027e-10, 1.7186e-04, 2.1651e+23, 3.1369e+27]],\n\n        [[7.0800e+31, 3.1095e-18, 1.8590e+34, 7.7767e+31],\n         [7.1536e+22, 1.8180e+31, 2.3329e-18, 1.9284e+31],\n         [3.2314e-18, 1.3163e-08, 1.3603e-05, 1.6518e-04]]])"
     },
     "metadata": {}
    }
   ]
  },
  {
   "cell_type": "code",
   "metadata": {
    "cell_id": "00019-3ed23827-d1d8-4f7b-9907-19f00c79c990",
    "deepnote_to_be_reexecuted": false,
    "source_hash": "63a1802d",
    "execution_start": 1620836510550,
    "execution_millis": 0,
    "deepnote_cell_type": "code"
   },
   "source": "# Mind the underscore!\n# Any operation that mutates a tensor in-place is post-fixed with an _.\n# For example: x.copy_(y), x.t_(), x.random_(n) will change x.\nt.random_(10)",
   "execution_count": null,
   "outputs": [
    {
     "output_type": "execute_result",
     "execution_count": 15,
     "data": {
      "text/plain": "tensor([[[1., 0., 7., 6.],\n         [1., 2., 8., 2.],\n         [6., 4., 5., 5.]],\n\n        [[9., 9., 0., 6.],\n         [2., 1., 3., 6.],\n         [8., 5., 3., 5.]]])"
     },
     "metadata": {}
    }
   ]
  },
  {
   "cell_type": "code",
   "metadata": {
    "cell_id": "00020-54f8e43a-bea9-4bbb-8b61-d910c809eb40",
    "deepnote_to_be_reexecuted": false,
    "source_hash": "51b57d41",
    "execution_start": 1620836516230,
    "execution_millis": 9,
    "deepnote_cell_type": "code"
   },
   "source": "t",
   "execution_count": null,
   "outputs": [
    {
     "output_type": "execute_result",
     "execution_count": 16,
     "data": {
      "text/plain": "tensor([[[1., 0., 7., 6.],\n         [1., 2., 8., 2.],\n         [6., 4., 5., 5.]],\n\n        [[9., 9., 0., 6.],\n         [2., 1., 3., 6.],\n         [8., 5., 3., 5.]]])"
     },
     "metadata": {}
    }
   ]
  },
  {
   "cell_type": "code",
   "metadata": {
    "cell_id": "00021-e191ba23-4faa-4355-a752-9c7b88aa6ae0",
    "deepnote_to_be_reexecuted": false,
    "source_hash": "db1c6e9c",
    "execution_start": 1620836519030,
    "execution_millis": 7,
    "deepnote_cell_type": "code"
   },
   "source": "# This resizes the tensor permanently \nr = torch.Tensor(t)\nr.resize_(3, 8)\nr",
   "execution_count": null,
   "outputs": [
    {
     "output_type": "execute_result",
     "execution_count": 17,
     "data": {
      "text/plain": "tensor([[1., 0., 7., 6., 1., 2., 8., 2.],\n        [6., 4., 5., 5., 9., 9., 0., 6.],\n        [2., 1., 3., 6., 8., 5., 3., 5.]])"
     },
     "metadata": {}
    }
   ]
  },
  {
   "cell_type": "code",
   "metadata": {
    "cell_id": "00022-1464705a-8020-420c-a7df-e1f5992efbd5",
    "deepnote_to_be_reexecuted": false,
    "source_hash": "140a462a",
    "execution_start": 1620836525775,
    "execution_millis": 1,
    "deepnote_cell_type": "code"
   },
   "source": "# As you can see zero_ would replace r with 0's which was originally filled with integers\nr.zero_()",
   "execution_count": null,
   "outputs": [
    {
     "output_type": "execute_result",
     "execution_count": 18,
     "data": {
      "text/plain": "tensor([[0., 0., 0., 0., 0., 0., 0., 0.],\n        [0., 0., 0., 0., 0., 0., 0., 0.],\n        [0., 0., 0., 0., 0., 0., 0., 0.]])"
     },
     "metadata": {}
    }
   ]
  },
  {
   "cell_type": "code",
   "metadata": {
    "cell_id": "00023-8b6f9932-d289-4264-95b9-023ed4a740c9",
    "deepnote_to_be_reexecuted": false,
    "source_hash": "51b57d41",
    "execution_start": 1620836529937,
    "execution_millis": 10,
    "deepnote_cell_type": "code"
   },
   "source": "t",
   "execution_count": null,
   "outputs": [
    {
     "output_type": "execute_result",
     "execution_count": 19,
     "data": {
      "text/plain": "tensor([[[0., 0., 0., 0.],\n         [0., 0., 0., 0.],\n         [0., 0., 0., 0.]],\n\n        [[0., 0., 0., 0.],\n         [0., 0., 0., 0.],\n         [0., 0., 0., 0.]]])"
     },
     "metadata": {}
    }
   ]
  },
  {
   "cell_type": "code",
   "metadata": {
    "cell_id": "00024-07a4f2ad-4bca-43f1-bd6a-ed5e96ff7e70",
    "deepnote_to_be_reexecuted": false,
    "source_hash": "95424710",
    "execution_start": 1620836543314,
    "execution_millis": 0,
    "deepnote_cell_type": "code"
   },
   "source": "# This *is* important, sigh...\ns = r.clone()",
   "execution_count": null,
   "outputs": []
  },
  {
   "cell_type": "code",
   "metadata": {
    "cell_id": "00025-0e985c42-5d18-4b76-875e-b502e318fa3b",
    "deepnote_to_be_reexecuted": false,
    "source_hash": "9666871",
    "execution_start": 1620836544276,
    "execution_millis": 8,
    "deepnote_cell_type": "code"
   },
   "source": "# In-place fill of 1's\ns.fill_(1)\ns",
   "execution_count": null,
   "outputs": [
    {
     "output_type": "execute_result",
     "execution_count": 21,
     "data": {
      "text/plain": "tensor([[1., 1., 1., 1., 1., 1., 1., 1.],\n        [1., 1., 1., 1., 1., 1., 1., 1.],\n        [1., 1., 1., 1., 1., 1., 1., 1.]])"
     },
     "metadata": {}
    }
   ]
  },
  {
   "cell_type": "code",
   "metadata": {
    "cell_id": "00026-2a993d7d-f098-416c-83b5-72a5bf246e2e",
    "deepnote_to_be_reexecuted": false,
    "source_hash": "65fa8cff",
    "execution_start": 1620836545467,
    "execution_millis": 10,
    "deepnote_cell_type": "code"
   },
   "source": "# Because we cloned r, even though we did an in-place operation, this doesn't affect r\nr",
   "execution_count": null,
   "outputs": [
    {
     "output_type": "execute_result",
     "execution_count": 22,
     "data": {
      "text/plain": "tensor([[0., 0., 0., 0., 0., 0., 0., 0.],\n        [0., 0., 0., 0., 0., 0., 0., 0.],\n        [0., 0., 0., 0., 0., 0., 0., 0.]])"
     },
     "metadata": {}
    }
   ]
  },
  {
   "cell_type": "markdown",
   "source": "## Vectors (1D Tensors)",
   "metadata": {
    "cell_id": "00027-f6183da2-11ba-43df-b334-22b24f162509",
    "deepnote_cell_type": "markdown"
   }
  },
  {
   "cell_type": "code",
   "metadata": {
    "cell_id": "00028-963bc2cb-b9e3-4480-b525-3bcf56b390fc",
    "deepnote_to_be_reexecuted": false,
    "source_hash": "68674107",
    "execution_start": 1620836565769,
    "execution_millis": 20,
    "deepnote_cell_type": "code"
   },
   "source": "# Creates a 1D tensor of integers 1 to 4\nv = torch.Tensor([1, 2, 3, 4])\nv",
   "execution_count": null,
   "outputs": [
    {
     "output_type": "execute_result",
     "execution_count": 23,
     "data": {
      "text/plain": "tensor([1., 2., 3., 4.])"
     },
     "metadata": {}
    }
   ]
  },
  {
   "cell_type": "code",
   "metadata": {
    "cell_id": "00029-2d59939b-4d33-4231-a28b-85c2873329a2",
    "deepnote_to_be_reexecuted": false,
    "source_hash": "877bcf16",
    "execution_start": 1620836633869,
    "execution_millis": 1,
    "deepnote_cell_type": "code"
   },
   "source": "# Print number of dimensions (1D) and size of tensor\nprint(f'dim: {v.dim()}, size: {v.size()[0]}')",
   "execution_count": null,
   "outputs": [
    {
     "name": "stdout",
     "text": "dim: 1, size: 4\n",
     "output_type": "stream"
    }
   ]
  },
  {
   "cell_type": "code",
   "metadata": {
    "cell_id": "00030-1c67424f-567b-4e65-bb99-b576e93c26f7",
    "deepnote_to_be_reexecuted": false,
    "source_hash": "c2367c90",
    "execution_start": 1620836640446,
    "execution_millis": 9,
    "deepnote_cell_type": "code"
   },
   "source": "w = torch.Tensor([1, 0, 2, 0])\nw",
   "execution_count": null,
   "outputs": [
    {
     "output_type": "execute_result",
     "execution_count": 25,
     "data": {
      "text/plain": "tensor([1., 0., 2., 0.])"
     },
     "metadata": {}
    }
   ]
  },
  {
   "cell_type": "code",
   "metadata": {
    "cell_id": "00031-f83d675f-6395-4068-9952-ecfd48cdce50",
    "deepnote_to_be_reexecuted": false,
    "source_hash": "c2540c53",
    "execution_start": 1620836643385,
    "execution_millis": 13,
    "deepnote_cell_type": "code"
   },
   "source": "# Element-wise multiplication\nv * w",
   "execution_count": null,
   "outputs": [
    {
     "output_type": "execute_result",
     "execution_count": 26,
     "data": {
      "text/plain": "tensor([1., 0., 6., 0.])"
     },
     "metadata": {}
    }
   ]
  },
  {
   "cell_type": "code",
   "metadata": {
    "cell_id": "00032-7ae312b0-cd85-4c0d-aef8-a3a6c17045f2",
    "deepnote_to_be_reexecuted": false,
    "source_hash": "edc8749b",
    "execution_start": 1620836651495,
    "execution_millis": 11,
    "deepnote_cell_type": "code"
   },
   "source": "# Scalar product: 1*1 + 2*0 + 3*2 + 4*0\nv @ w",
   "execution_count": null,
   "outputs": [
    {
     "output_type": "execute_result",
     "execution_count": 27,
     "data": {
      "text/plain": "tensor(7.)"
     },
     "metadata": {}
    }
   ]
  },
  {
   "cell_type": "code",
   "metadata": {
    "cell_id": "00033-65c14419-7452-4167-987d-a39c66b53951",
    "deepnote_to_be_reexecuted": false,
    "source_hash": "fd1ff8e8",
    "execution_start": 1620836664655,
    "execution_millis": 12,
    "deepnote_cell_type": "code"
   },
   "source": "# In-place replacement of random number from 0 to 10\nx = torch.Tensor(5).random_(10)\nx",
   "execution_count": null,
   "outputs": [
    {
     "output_type": "execute_result",
     "execution_count": 28,
     "data": {
      "text/plain": "tensor([8., 5., 3., 1., 9.])"
     },
     "metadata": {}
    }
   ]
  },
  {
   "cell_type": "code",
   "metadata": {
    "cell_id": "00034-439c2281-33da-4cd2-80ce-edc365289436",
    "deepnote_to_be_reexecuted": false,
    "source_hash": "a5ff2730",
    "execution_start": 1620836674945,
    "execution_millis": 11,
    "deepnote_cell_type": "code"
   },
   "source": "print(f'first: {x[0]}, last: {x[-1]}')",
   "execution_count": null,
   "outputs": [
    {
     "name": "stdout",
     "text": "first: 8.0, last: 9.0\n",
     "output_type": "stream"
    }
   ]
  },
  {
   "cell_type": "code",
   "metadata": {
    "cell_id": "00035-0b2a036f-7591-44ce-bd0a-7da8c15dd27b",
    "deepnote_to_be_reexecuted": false,
    "source_hash": "373b962",
    "execution_start": 1620836676796,
    "execution_millis": 10,
    "deepnote_cell_type": "code"
   },
   "source": "# Extract sub-Tensor [from:to)\nx[1:2 + 1]",
   "execution_count": null,
   "outputs": [
    {
     "output_type": "execute_result",
     "execution_count": 30,
     "data": {
      "text/plain": "tensor([5., 3.])"
     },
     "metadata": {}
    }
   ]
  },
  {
   "cell_type": "code",
   "metadata": {
    "cell_id": "00036-680d3f72-95d5-45b5-b5d1-1991f0d690f7",
    "deepnote_to_be_reexecuted": false,
    "source_hash": "64b48b8",
    "execution_start": 1620836682394,
    "execution_millis": 11,
    "deepnote_cell_type": "code"
   },
   "source": "v",
   "execution_count": null,
   "outputs": [
    {
     "output_type": "execute_result",
     "execution_count": 31,
     "data": {
      "text/plain": "tensor([1., 2., 3., 4.])"
     },
     "metadata": {}
    }
   ]
  },
  {
   "cell_type": "code",
   "metadata": {
    "cell_id": "00037-82141058-02bc-4365-93d9-488cf47d7133",
    "deepnote_to_be_reexecuted": false,
    "source_hash": "fce86b8e",
    "execution_start": 1620836689178,
    "execution_millis": 18,
    "deepnote_cell_type": "code"
   },
   "source": "# Create a tensor with integers ranging from 1 to 5, excluding 5\nv = torch.arange(1, 4 + 1)\nv",
   "execution_count": null,
   "outputs": [
    {
     "output_type": "execute_result",
     "execution_count": 32,
     "data": {
      "text/plain": "tensor([1, 2, 3, 4])"
     },
     "metadata": {}
    }
   ]
  },
  {
   "cell_type": "code",
   "metadata": {
    "cell_id": "00038-32251de7-f2b7-4246-bda1-b62c399e5600",
    "deepnote_to_be_reexecuted": false,
    "source_hash": "e8d8a756",
    "execution_start": 1620836691475,
    "execution_millis": 10,
    "deepnote_cell_type": "code"
   },
   "source": "# Square all elements in the tensor\nprint(v.pow(2), v)",
   "execution_count": null,
   "outputs": [
    {
     "name": "stdout",
     "text": "tensor([ 1,  4,  9, 16]) tensor([1, 2, 3, 4])\n",
     "output_type": "stream"
    }
   ]
  },
  {
   "cell_type": "markdown",
   "source": "## Matrices (2D Tensors)",
   "metadata": {
    "cell_id": "00039-939ed044-858a-48ca-a684-5429d970d08f",
    "deepnote_cell_type": "markdown"
   }
  },
  {
   "cell_type": "code",
   "metadata": {
    "cell_id": "00040-7c49bc8a-bd0e-4962-982e-8c282852636c",
    "deepnote_to_be_reexecuted": false,
    "source_hash": "15493f05",
    "execution_start": 1620836694534,
    "execution_millis": 11,
    "deepnote_cell_type": "code"
   },
   "source": "# Create a 2x4 tensor\nm = torch.Tensor([[2, 5, 3, 7],\n                  [4, 2, 1, 9]])\nm",
   "execution_count": null,
   "outputs": [
    {
     "output_type": "execute_result",
     "execution_count": 34,
     "data": {
      "text/plain": "tensor([[2., 5., 3., 7.],\n        [4., 2., 1., 9.]])"
     },
     "metadata": {}
    }
   ]
  },
  {
   "cell_type": "code",
   "metadata": {
    "cell_id": "00041-13e6b382-9587-4b3d-9a9e-1ecc5eea6c8e",
    "deepnote_to_be_reexecuted": false,
    "source_hash": "c4759b85",
    "execution_start": 1620836696334,
    "execution_millis": 0,
    "deepnote_cell_type": "code"
   },
   "source": "m.dim()",
   "execution_count": null,
   "outputs": [
    {
     "output_type": "execute_result",
     "execution_count": 35,
     "data": {
      "text/plain": "2"
     },
     "metadata": {}
    }
   ]
  },
  {
   "cell_type": "code",
   "metadata": {
    "cell_id": "00042-355a630c-853b-4ae9-aa0a-f5f521ea83ee",
    "deepnote_to_be_reexecuted": false,
    "source_hash": "cf93e263",
    "execution_start": 1620836698740,
    "execution_millis": 8,
    "deepnote_cell_type": "code"
   },
   "source": "print(m.size(0), m.size(1), m.size(), sep=' -- ')",
   "execution_count": null,
   "outputs": [
    {
     "name": "stdout",
     "text": "2 -- 4 -- torch.Size([2, 4])\n",
     "output_type": "stream"
    }
   ]
  },
  {
   "cell_type": "code",
   "metadata": {
    "cell_id": "00043-4c164995-7a71-424e-98bd-ec33440310c0",
    "deepnote_to_be_reexecuted": false,
    "source_hash": "13b98166",
    "execution_start": 1620836707595,
    "execution_millis": 7,
    "deepnote_cell_type": "code"
   },
   "source": "# Returns the total number of elements, hence num-el (number of elements)\nm.numel()",
   "execution_count": null,
   "outputs": [
    {
     "output_type": "execute_result",
     "execution_count": 37,
     "data": {
      "text/plain": "8"
     },
     "metadata": {}
    }
   ]
  },
  {
   "cell_type": "code",
   "metadata": {
    "cell_id": "00044-8d15cbbf-bce8-449d-8e14-93e0a9e48b0c",
    "deepnote_to_be_reexecuted": false,
    "source_hash": "7bf7a52d",
    "execution_start": 1620836709216,
    "execution_millis": 0,
    "deepnote_cell_type": "code"
   },
   "source": "# Indexing row 0, column 2 (0-indexed)\nm[0][2]",
   "execution_count": null,
   "outputs": [
    {
     "output_type": "execute_result",
     "execution_count": 38,
     "data": {
      "text/plain": "tensor(3.)"
     },
     "metadata": {}
    }
   ]
  },
  {
   "cell_type": "code",
   "metadata": {
    "cell_id": "00045-f667b29a-0094-497d-8749-29219fa63851",
    "deepnote_to_be_reexecuted": false,
    "source_hash": "d6aec313",
    "execution_start": 1620836720143,
    "execution_millis": 15,
    "deepnote_cell_type": "code"
   },
   "source": "# Indexing row 0, column 2 (0-indexed)\nm[0, 2]",
   "execution_count": null,
   "outputs": [
    {
     "output_type": "execute_result",
     "execution_count": 39,
     "data": {
      "text/plain": "tensor(3.)"
     },
     "metadata": {}
    }
   ]
  },
  {
   "cell_type": "code",
   "metadata": {
    "cell_id": "00046-5766b841-5f9c-414d-97b6-a7d816dc1f02",
    "deepnote_to_be_reexecuted": false,
    "source_hash": "dbe50cc8",
    "execution_start": 1620836721242,
    "execution_millis": 7,
    "deepnote_cell_type": "code"
   },
   "source": "# Indexing column 1, all rows (returns size 2)\nm[:, 1]",
   "execution_count": null,
   "outputs": [
    {
     "output_type": "execute_result",
     "execution_count": 40,
     "data": {
      "text/plain": "tensor([5., 2.])"
     },
     "metadata": {}
    }
   ]
  },
  {
   "cell_type": "code",
   "metadata": {
    "cell_id": "00047-dae240ca-6cd6-42e3-aa24-4edd26905df4",
    "deepnote_to_be_reexecuted": false,
    "source_hash": "91571efa",
    "execution_start": 1620836726419,
    "execution_millis": 27,
    "deepnote_cell_type": "code"
   },
   "source": "# Indexing column 1, all rows (returns size 2x2)\nm[:, [1]]",
   "execution_count": null,
   "outputs": [
    {
     "output_type": "execute_result",
     "execution_count": 41,
     "data": {
      "text/plain": "tensor([[5.],\n        [2.]])"
     },
     "metadata": {}
    }
   ]
  },
  {
   "cell_type": "code",
   "metadata": {
    "cell_id": "00048-a6d9da36-0599-4e6f-a871-50eb7a25fba8",
    "deepnote_to_be_reexecuted": false,
    "source_hash": "7529404b",
    "execution_start": 1620836728909,
    "execution_millis": 7,
    "deepnote_cell_type": "code"
   },
   "source": "# Indexes row 0, all columns (returns 1x4)\nm[[0], :]",
   "execution_count": null,
   "outputs": [
    {
     "output_type": "execute_result",
     "execution_count": 42,
     "data": {
      "text/plain": "tensor([[2., 5., 3., 7.]])"
     },
     "metadata": {}
    }
   ]
  },
  {
   "cell_type": "code",
   "metadata": {
    "cell_id": "00049-7956eb7c-b7d5-4a38-a7d4-b79e9e3aaa8d",
    "deepnote_to_be_reexecuted": false,
    "source_hash": "485a09f2",
    "execution_start": 1620836739734,
    "execution_millis": 7,
    "deepnote_cell_type": "code"
   },
   "source": "# Indexes row 0, all columns (returns size 4)\nm[0, :]",
   "execution_count": null,
   "outputs": [
    {
     "output_type": "execute_result",
     "execution_count": 43,
     "data": {
      "text/plain": "tensor([2., 5., 3., 7.])"
     },
     "metadata": {}
    }
   ]
  },
  {
   "cell_type": "code",
   "metadata": {
    "cell_id": "00050-0653eebe-f2d5-4f06-8404-31b64ecee682",
    "deepnote_to_be_reexecuted": false,
    "source_hash": "fc1e9cbd",
    "execution_start": 1620836745179,
    "execution_millis": 8,
    "deepnote_cell_type": "code"
   },
   "source": "# Create tensor of numbers from 1 to 5 (excluding 5)\nv = torch.arange(1., 4 + 1)\nv",
   "execution_count": null,
   "outputs": [
    {
     "output_type": "execute_result",
     "execution_count": 44,
     "data": {
      "text/plain": "tensor([1., 2., 3., 4.])"
     },
     "metadata": {}
    }
   ]
  },
  {
   "cell_type": "code",
   "metadata": {
    "cell_id": "00051-362ad960-d2ac-4df5-81f2-12c3892dc9b3",
    "deepnote_to_be_reexecuted": false,
    "source_hash": "cb73fd5b",
    "execution_start": 1620836747641,
    "execution_millis": 6,
    "deepnote_cell_type": "code"
   },
   "source": "m",
   "execution_count": null,
   "outputs": [
    {
     "output_type": "execute_result",
     "execution_count": 45,
     "data": {
      "text/plain": "tensor([[2., 5., 3., 7.],\n        [4., 2., 1., 9.]])"
     },
     "metadata": {}
    }
   ]
  },
  {
   "cell_type": "code",
   "metadata": {
    "cell_id": "00052-b6e3dd50-611e-4c09-844a-afc8e15e04c8",
    "deepnote_to_be_reexecuted": false,
    "source_hash": "e275ce03",
    "execution_start": 1620836749437,
    "execution_millis": 16,
    "deepnote_cell_type": "code"
   },
   "source": "# Scalar product\nm @ v",
   "execution_count": null,
   "outputs": [
    {
     "output_type": "execute_result",
     "execution_count": 46,
     "data": {
      "text/plain": "tensor([49., 47.])"
     },
     "metadata": {}
    }
   ]
  },
  {
   "cell_type": "code",
   "metadata": {
    "cell_id": "00053-ac51e08b-cd82-4b72-b958-e09967c61971",
    "deepnote_to_be_reexecuted": false,
    "source_hash": "56435c65",
    "execution_start": 1620836751094,
    "execution_millis": 11,
    "deepnote_cell_type": "code"
   },
   "source": "# Calculated by 1*2 + 2*5 + 3*3 + 4*7\nm[[0], :] @ v",
   "execution_count": null,
   "outputs": [
    {
     "output_type": "execute_result",
     "execution_count": 47,
     "data": {
      "text/plain": "tensor([49.])"
     },
     "metadata": {}
    }
   ]
  },
  {
   "cell_type": "code",
   "metadata": {
    "cell_id": "00054-04d60043-41fe-4350-9185-1f245dc06be5",
    "deepnote_to_be_reexecuted": false,
    "source_hash": "13efdb15",
    "execution_start": 1620836754964,
    "execution_millis": 14,
    "deepnote_cell_type": "code"
   },
   "source": "# Calculated by \nm[[1], :] @ v",
   "execution_count": null,
   "outputs": [
    {
     "output_type": "execute_result",
     "execution_count": 48,
     "data": {
      "text/plain": "tensor([47.])"
     },
     "metadata": {}
    }
   ]
  },
  {
   "cell_type": "code",
   "metadata": {
    "cell_id": "00055-657eb9fa-75e0-4041-85a4-54438370053b",
    "deepnote_to_be_reexecuted": false,
    "source_hash": "2072bb6b",
    "execution_start": 1620836756593,
    "execution_millis": 10,
    "deepnote_cell_type": "code"
   },
   "source": "# Add a random tensor of size 2x4 to m\nm + torch.rand(2, 4)",
   "execution_count": null,
   "outputs": [
    {
     "output_type": "execute_result",
     "execution_count": 49,
     "data": {
      "text/plain": "tensor([[2.6017, 5.1190, 3.7626, 7.1223],\n        [4.5965, 2.8778, 1.7907, 9.8797]])"
     },
     "metadata": {}
    }
   ]
  },
  {
   "cell_type": "code",
   "metadata": {
    "cell_id": "00056-4bca5b80-c54a-4d25-9fb7-10617d8f3bb2",
    "deepnote_to_be_reexecuted": false,
    "source_hash": "8e803e97",
    "execution_start": 1620836759656,
    "execution_millis": 7,
    "deepnote_cell_type": "code"
   },
   "source": "# Subtract a random tensor of size 2x4 to m\nm - torch.rand(2, 4)",
   "execution_count": null,
   "outputs": [
    {
     "output_type": "execute_result",
     "execution_count": 50,
     "data": {
      "text/plain": "tensor([[1.6058, 4.5609, 2.6602, 6.0787],\n        [3.9680, 1.5985, 0.6981, 8.0307]])"
     },
     "metadata": {}
    }
   ]
  },
  {
   "cell_type": "code",
   "metadata": {
    "cell_id": "00057-c32abe82-3de1-49b2-a44c-eb03fad60878",
    "deepnote_to_be_reexecuted": false,
    "source_hash": "d75997d5",
    "execution_start": 1620836760813,
    "execution_millis": 7,
    "deepnote_cell_type": "code"
   },
   "source": "# Multiply a random tensor of size 2x4 to m\nm * torch.rand(2, 4)",
   "execution_count": null,
   "outputs": [
    {
     "output_type": "execute_result",
     "execution_count": 51,
     "data": {
      "text/plain": "tensor([[0.5237, 4.3391, 2.0654, 3.5803],\n        [3.5770, 1.2827, 0.9829, 6.7664]])"
     },
     "metadata": {}
    }
   ]
  },
  {
   "cell_type": "code",
   "metadata": {
    "cell_id": "00058-2edf1055-b03e-41e5-a509-3998692d7136",
    "deepnote_to_be_reexecuted": false,
    "source_hash": "88bd8c89",
    "execution_start": 1620836762958,
    "execution_millis": 14,
    "deepnote_cell_type": "code"
   },
   "source": "# Divide m by a random tensor of size 2x4\nm / torch.rand(2, 4)",
   "execution_count": null,
   "outputs": [
    {
     "output_type": "execute_result",
     "execution_count": 52,
     "data": {
      "text/plain": "tensor([[ 2.0316,  5.6989,  4.9651, 21.4303],\n        [ 8.5328,  4.0349,  3.3598, 86.4554]])"
     },
     "metadata": {}
    }
   ]
  },
  {
   "cell_type": "code",
   "metadata": {
    "cell_id": "00059-2ed1703c-c85a-4d18-b8b0-8531518ecd2f",
    "deepnote_to_be_reexecuted": false,
    "source_hash": "846346d7",
    "execution_start": 1620836764515,
    "execution_millis": 7,
    "deepnote_cell_type": "code"
   },
   "source": "m.size()",
   "execution_count": null,
   "outputs": [
    {
     "output_type": "execute_result",
     "execution_count": 53,
     "data": {
      "text/plain": "torch.Size([2, 4])"
     },
     "metadata": {}
    }
   ]
  },
  {
   "cell_type": "code",
   "metadata": {
    "cell_id": "00060-4c814902-c11a-4aec-b59c-a3a4014f77e8",
    "deepnote_to_be_reexecuted": false,
    "source_hash": "ba3c28c7",
    "execution_start": 1620836769974,
    "execution_millis": 10,
    "deepnote_cell_type": "code"
   },
   "source": "# Transpose tensor m, which is essentially 2x4 to 4x2\nm.t()",
   "execution_count": null,
   "outputs": [
    {
     "output_type": "execute_result",
     "execution_count": 54,
     "data": {
      "text/plain": "tensor([[2., 4.],\n        [5., 2.],\n        [3., 1.],\n        [7., 9.]])"
     },
     "metadata": {}
    }
   ]
  },
  {
   "cell_type": "code",
   "metadata": {
    "cell_id": "00061-8acf695d-50dc-48e1-8b26-45fa68fe21b5",
    "deepnote_to_be_reexecuted": false,
    "source_hash": "c2d7441d",
    "execution_start": 1620836771762,
    "execution_millis": 14,
    "deepnote_cell_type": "code"
   },
   "source": "# Same as\nm.transpose(0, 1)",
   "execution_count": null,
   "outputs": [
    {
     "output_type": "execute_result",
     "execution_count": 55,
     "data": {
      "text/plain": "tensor([[2., 4.],\n        [5., 2.],\n        [3., 1.],\n        [7., 9.]])"
     },
     "metadata": {}
    }
   ]
  },
  {
   "cell_type": "markdown",
   "source": "## Constructors",
   "metadata": {
    "cell_id": "00062-c187e2bd-7ed6-448c-b437-5221a8b9568b",
    "deepnote_cell_type": "markdown"
   }
  },
  {
   "cell_type": "code",
   "metadata": {
    "cell_id": "00063-541e6305-f18b-4dfb-9f2d-ef3a969e8e19",
    "deepnote_to_be_reexecuted": false,
    "source_hash": "367f1f51",
    "execution_start": 1620836777185,
    "execution_millis": 6,
    "deepnote_cell_type": "code"
   },
   "source": "# Create tensor from 3 to 8, with each having a space of 1\ntorch.arange(3., 8 + 1)",
   "execution_count": null,
   "outputs": [
    {
     "output_type": "execute_result",
     "execution_count": 56,
     "data": {
      "text/plain": "tensor([3., 4., 5., 6., 7., 8.])"
     },
     "metadata": {}
    }
   ]
  },
  {
   "cell_type": "code",
   "metadata": {
    "cell_id": "00064-0c40af9e-6b74-46f9-9211-ba764cccb795",
    "deepnote_to_be_reexecuted": false,
    "source_hash": "9dff9706",
    "execution_start": 1620836780458,
    "execution_millis": 9,
    "deepnote_cell_type": "code"
   },
   "source": "# Create tensor from 5.7 to -2.1 with each having a space of -3\ntorch.arange(5.7, -2.1, -3)",
   "execution_count": null,
   "outputs": [
    {
     "output_type": "execute_result",
     "execution_count": 57,
     "data": {
      "text/plain": "tensor([ 5.7000,  2.7000, -0.3000])"
     },
     "metadata": {}
    }
   ]
  },
  {
   "cell_type": "code",
   "metadata": {
    "cell_id": "00065-e860ffd5-5c62-4dca-9c4f-2dba38034f49",
    "deepnote_to_be_reexecuted": false,
    "source_hash": "af42d0e4",
    "execution_start": 1620836783059,
    "execution_millis": 14,
    "deepnote_cell_type": "code"
   },
   "source": "# returns a 1D tensor of steps equally spaced points between start=3, end=8 and steps=20\ntorch.linspace(3, 8, 20).view(1, -1)",
   "execution_count": null,
   "outputs": [
    {
     "output_type": "execute_result",
     "execution_count": 58,
     "data": {
      "text/plain": "tensor([[3.0000, 3.2632, 3.5263, 3.7895, 4.0526, 4.3158, 4.5789, 4.8421, 5.1053,\n         5.3684, 5.6316, 5.8947, 6.1579, 6.4211, 6.6842, 6.9474, 7.2105, 7.4737,\n         7.7368, 8.0000]])"
     },
     "metadata": {}
    }
   ]
  },
  {
   "cell_type": "code",
   "metadata": {
    "cell_id": "00066-88f9fd9f-79e0-48d2-8c8d-b9b90b6cb574",
    "deepnote_to_be_reexecuted": false,
    "source_hash": "302682ee",
    "execution_start": 1620836788616,
    "execution_millis": 33,
    "deepnote_cell_type": "code"
   },
   "source": "# Create a tensor filled with 0's\ntorch.zeros(3, 5)",
   "execution_count": null,
   "outputs": [
    {
     "output_type": "execute_result",
     "execution_count": 59,
     "data": {
      "text/plain": "tensor([[0., 0., 0., 0., 0.],\n        [0., 0., 0., 0., 0.],\n        [0., 0., 0., 0., 0.]])"
     },
     "metadata": {}
    }
   ]
  },
  {
   "cell_type": "code",
   "metadata": {
    "cell_id": "00067-e30351b1-ba94-49d1-8726-1616301302a6",
    "deepnote_to_be_reexecuted": false,
    "source_hash": "d481312",
    "execution_start": 1620836789993,
    "execution_millis": 15,
    "deepnote_cell_type": "code"
   },
   "source": "# Create a tensor filled with 1's\ntorch.ones(3, 2, 5)",
   "execution_count": null,
   "outputs": [
    {
     "output_type": "execute_result",
     "execution_count": 60,
     "data": {
      "text/plain": "tensor([[[1., 1., 1., 1., 1.],\n         [1., 1., 1., 1., 1.]],\n\n        [[1., 1., 1., 1., 1.],\n         [1., 1., 1., 1., 1.]],\n\n        [[1., 1., 1., 1., 1.],\n         [1., 1., 1., 1., 1.]]])"
     },
     "metadata": {}
    }
   ]
  },
  {
   "cell_type": "code",
   "metadata": {
    "cell_id": "00068-354a16c7-bd9f-4f6a-b964-9bfa7cc0e53d",
    "deepnote_to_be_reexecuted": false,
    "source_hash": "6f79140b",
    "execution_start": 1620836794134,
    "execution_millis": 16,
    "deepnote_cell_type": "code"
   },
   "source": "# Create a tensor with the diagonal filled with 1\ntorch.eye(3)",
   "execution_count": null,
   "outputs": [
    {
     "output_type": "execute_result",
     "execution_count": 61,
     "data": {
      "text/plain": "tensor([[1., 0., 0.],\n        [0., 1., 0.],\n        [0., 0., 1.]])"
     },
     "metadata": {}
    }
   ]
  },
  {
   "cell_type": "code",
   "metadata": {
    "cell_id": "00069-1508941f-d042-4d87-ab39-43a7a97f3297",
    "deepnote_to_be_reexecuted": false,
    "source_hash": "b4f27758",
    "execution_start": 1620836796280,
    "execution_millis": 875,
    "deepnote_cell_type": "code"
   },
   "source": "# Set default plots\nfrom res.plot_lib import set_default\nfrom matplotlib import pyplot as plt\nset_default()",
   "execution_count": null,
   "outputs": []
  },
  {
   "cell_type": "code",
   "metadata": {
    "cell_id": "00070-075366b0-96b8-4244-b7b0-7ffcaa799109",
    "deepnote_to_be_reexecuted": false,
    "source_hash": "750d6977",
    "execution_start": 1620836800000,
    "execution_millis": 363,
    "deepnote_cell_type": "code"
   },
   "source": "# Numpy bridge!\nplt.hist(torch.randn(1000).numpy(), 100);",
   "execution_count": null,
   "outputs": [
    {
     "data": {
      "text/plain": "<Figure size 1000x1000 with 1 Axes>",
      "image/png": "[encoded data removed]"
     },
     "metadata": {
      "image/png": {
       "width": 817,
       "height": 793
      }
     },
     "output_type": "display_data"
    }
   ]
  },
  {
   "cell_type": "code",
   "metadata": {
    "cell_id": "00071-501201af-c6fa-49c0-bbaf-4b057dfff9ea",
    "deepnote_to_be_reexecuted": false,
    "source_hash": "ba3def86",
    "execution_start": 1620836810386,
    "execution_millis": 351,
    "deepnote_cell_type": "code"
   },
   "source": "plt.hist(torch.randn(10**6).numpy(), 100);  # how much does this chart weight?\n# use rasterized=True for SVG/EPS/PDF!",
   "execution_count": null,
   "outputs": [
    {
     "data": {
      "text/plain": "<Figure size 1000x1000 with 1 Axes>",
      "image/png": "[encoded data removed]"
     },
     "metadata": {
      "image/png": {
       "width": 843,
       "height": 793
      }
     },
     "output_type": "display_data"
    }
   ]
  },
  {
   "cell_type": "code",
   "metadata": {
    "cell_id": "00072-0d650ec9-088f-4ddc-9f4d-a1b487eb46f6",
    "deepnote_to_be_reexecuted": false,
    "source_hash": "c609b866",
    "execution_start": 1620836820747,
    "execution_millis": 424,
    "deepnote_cell_type": "code"
   },
   "source": "plt.hist(torch.rand(10**6).numpy(), 100);",
   "execution_count": null,
   "outputs": [
    {
     "data": {
      "text/plain": "<Figure size 1000x1000 with 1 Axes>",
      "image/png": "[encoded data removed]"
     },
     "metadata": {
      "image/png": {
       "width": 843,
       "height": 793
      }
     },
     "output_type": "display_data"
    }
   ]
  },
  {
   "cell_type": "markdown",
   "source": "## Casting",
   "metadata": {
    "cell_id": "00073-84c4ff5d-3f22-4a23-8c4c-2b039c1c0fbb",
    "deepnote_cell_type": "markdown"
   }
  },
  {
   "cell_type": "code",
   "metadata": {
    "cell_id": "00074-ddf85174-0bc0-4045-b54a-1521035fc6e4",
    "deepnote_to_be_reexecuted": false,
    "source_hash": "4e7f03df",
    "execution_start": 1620836839453,
    "execution_millis": 0,
    "deepnote_cell_type": "code"
   },
   "source": "# Helper to get what kind of tensor types\ntorch.*Tensor?",
   "execution_count": null,
   "outputs": []
  },
  {
   "cell_type": "code",
   "metadata": {
    "cell_id": "00075-bfbf74e6-d0ab-4788-8a36-41371854381a",
    "deepnote_to_be_reexecuted": false,
    "source_hash": "cb73fd5b",
    "execution_start": 1620836843562,
    "execution_millis": 9,
    "deepnote_cell_type": "code"
   },
   "source": "m",
   "execution_count": null,
   "outputs": [
    {
     "output_type": "execute_result",
     "execution_count": 67,
     "data": {
      "text/plain": "tensor([[2., 5., 3., 7.],\n        [4., 2., 1., 9.]])"
     },
     "metadata": {}
    }
   ]
  },
  {
   "cell_type": "code",
   "metadata": {
    "cell_id": "00076-344667fa-4241-4b6c-9ea5-3c43e91189e9",
    "deepnote_to_be_reexecuted": false,
    "source_hash": "21b2b82",
    "execution_start": 1620836844951,
    "execution_millis": 12,
    "deepnote_cell_type": "code"
   },
   "source": "# This is basically a 64 bit float tensor\nm_double = m.double()\nm_double",
   "execution_count": null,
   "outputs": [
    {
     "output_type": "execute_result",
     "execution_count": 68,
     "data": {
      "text/plain": "tensor([[2., 5., 3., 7.],\n        [4., 2., 1., 9.]], dtype=torch.float64)"
     },
     "metadata": {}
    }
   ]
  },
  {
   "cell_type": "code",
   "metadata": {
    "cell_id": "00077-11f752ee-9e31-4022-82c6-8405a2feb904",
    "deepnote_to_be_reexecuted": false,
    "source_hash": "43df676b",
    "execution_start": 1620836847013,
    "execution_millis": 10,
    "deepnote_cell_type": "code"
   },
   "source": "# This creates a tensor of type int8\nm_byte = m.byte()\nm_byte",
   "execution_count": null,
   "outputs": [
    {
     "output_type": "execute_result",
     "execution_count": 69,
     "data": {
      "text/plain": "tensor([[2, 5, 3, 7],\n        [4, 2, 1, 9]], dtype=torch.uint8)"
     },
     "metadata": {}
    }
   ]
  },
  {
   "cell_type": "code",
   "metadata": {
    "cell_id": "00078-ca3f37eb-c939-443c-8edd-35a82f1c38fe",
    "deepnote_to_be_reexecuted": false,
    "source_hash": "8deaf49",
    "execution_start": 1620836850323,
    "execution_millis": 10,
    "deepnote_cell_type": "code"
   },
   "source": "# Move your tensor to GPU device 0 if there is one (first GPU in the system)\ndevice = torch.device(\"cuda:0\" if torch.cuda.is_available() else \"cpu\")\nm.to(device)",
   "execution_count": null,
   "outputs": [
    {
     "output_type": "execute_result",
     "execution_count": 70,
     "data": {
      "text/plain": "tensor([[2., 5., 3., 7.],\n        [4., 2., 1., 9.]])"
     },
     "metadata": {}
    }
   ]
  },
  {
   "cell_type": "code",
   "metadata": {
    "cell_id": "00079-813c1a6c-4f14-4bcb-aa14-ea1fa29012a0",
    "deepnote_to_be_reexecuted": false,
    "source_hash": "e089bc14",
    "execution_start": 1620836885221,
    "execution_millis": 8,
    "deepnote_cell_type": "code"
   },
   "source": "# Converts tensor to numpy array\nm_np = m.numpy()\nm_np",
   "execution_count": null,
   "outputs": [
    {
     "output_type": "execute_result",
     "execution_count": 71,
     "data": {
      "text/plain": "array([[2., 5., 3., 7.],\n       [4., 2., 1., 9.]], dtype=float32)"
     },
     "metadata": {}
    }
   ]
  },
  {
   "cell_type": "code",
   "metadata": {
    "cell_id": "00080-759902df-f14e-4a7a-8add-72c38508faeb",
    "deepnote_to_be_reexecuted": false,
    "source_hash": "fdd16409",
    "execution_start": 1620836886793,
    "execution_millis": 5,
    "deepnote_cell_type": "code"
   },
   "source": "# In-place fill of column 0 and row 0 with value -1\nm_np[0, 0] = -1\nm_np",
   "execution_count": null,
   "outputs": [
    {
     "output_type": "execute_result",
     "execution_count": 72,
     "data": {
      "text/plain": "array([[-1.,  5.,  3.,  7.],\n       [ 4.,  2.,  1.,  9.]], dtype=float32)"
     },
     "metadata": {}
    }
   ]
  },
  {
   "cell_type": "code",
   "metadata": {
    "cell_id": "00081-9c963729-a5a4-4d5a-9cd1-c309d121d9ea",
    "deepnote_to_be_reexecuted": false,
    "source_hash": "cb73fd5b",
    "execution_start": 1620836892933,
    "execution_millis": 18,
    "deepnote_cell_type": "code"
   },
   "source": "m",
   "execution_count": null,
   "outputs": [
    {
     "output_type": "execute_result",
     "execution_count": 73,
     "data": {
      "text/plain": "tensor([[-1.,  5.,  3.,  7.],\n        [ 4.,  2.,  1.,  9.]])"
     },
     "metadata": {}
    }
   ]
  },
  {
   "cell_type": "code",
   "metadata": {
    "cell_id": "00082-647add66-51f5-49bf-87af-06f2b33d849d",
    "deepnote_to_be_reexecuted": false,
    "source_hash": "c62b9058",
    "execution_start": 1620836900402,
    "execution_millis": 9,
    "deepnote_cell_type": "code"
   },
   "source": "# Create a tensor of integers ranging from 0 to 4\nimport numpy as np\nn_np = np.arange(5)\nn = torch.from_numpy(n_np)\nprint(n_np, n)",
   "execution_count": null,
   "outputs": [
    {
     "name": "stdout",
     "text": "[0 1 2 3 4] tensor([0, 1, 2, 3, 4])\n",
     "output_type": "stream"
    }
   ]
  },
  {
   "cell_type": "code",
   "metadata": {
    "cell_id": "00083-6b56feda-ea0b-4708-b663-309cc52d1f69",
    "deepnote_to_be_reexecuted": false,
    "source_hash": "9b08f5e1",
    "execution_start": 1620836911452,
    "execution_millis": 9,
    "deepnote_cell_type": "code"
   },
   "source": "# In-place multiplication of all elements by 2 for tensor n\n# Because n is essentiall n_np, not a clone, this affects n_np\nn.mul_(2)\nn_np",
   "execution_count": null,
   "outputs": [
    {
     "output_type": "execute_result",
     "execution_count": 75,
     "data": {
      "text/plain": "array([0, 2, 4, 6, 8])"
     },
     "metadata": {}
    }
   ]
  },
  {
   "cell_type": "markdown",
   "source": "## More fun",
   "metadata": {
    "cell_id": "00084-55d1a120-ec4c-4f6b-9793-2f9a8d0a40d8",
    "deepnote_cell_type": "markdown"
   }
  },
  {
   "cell_type": "code",
   "metadata": {
    "cell_id": "00085-dc5010b4-1cca-4906-b911-ba63f3e4ff7a",
    "deepnote_to_be_reexecuted": false,
    "source_hash": "1231939b",
    "execution_start": 1620836916562,
    "execution_millis": 11,
    "deepnote_cell_type": "code"
   },
   "source": "# Creates two tensor of size 1x4\na = torch.Tensor([[1, 2, 3, 4]])\nb = torch.Tensor([[5, 6, 7, 8]])\nprint(a.size(), b)",
   "execution_count": null,
   "outputs": [
    {
     "name": "stdout",
     "text": "torch.Size([1, 4]) tensor([[5., 6., 7., 8.]])\n",
     "output_type": "stream"
    }
   ]
  },
  {
   "cell_type": "code",
   "metadata": {
    "cell_id": "00086-3ade5bad-e2cc-40c4-a8ac-8cbfe0863410",
    "deepnote_to_be_reexecuted": false,
    "source_hash": "c469f696",
    "execution_start": 1620836923090,
    "execution_millis": 21,
    "deepnote_cell_type": "code"
   },
   "source": "# Concatenate on axis 0, so you get 2x4\ntorch.cat((a, b), 0)",
   "execution_count": null,
   "outputs": [
    {
     "output_type": "execute_result",
     "execution_count": 77,
     "data": {
      "text/plain": "tensor([[1., 2., 3., 4.],\n        [5., 6., 7., 8.]])"
     },
     "metadata": {}
    }
   ]
  },
  {
   "cell_type": "code",
   "metadata": {
    "cell_id": "00087-f8280023-ec51-4a04-b0a7-506793ce1382",
    "deepnote_to_be_reexecuted": false,
    "source_hash": "b19d9ee4",
    "execution_start": 1620836929391,
    "execution_millis": 21,
    "deepnote_cell_type": "code"
   },
   "source": "# Concatenate on axis 1, so you get 1x8\ntorch.cat((a, b), 1)",
   "execution_count": null,
   "outputs": [
    {
     "output_type": "execute_result",
     "execution_count": 78,
     "data": {
      "text/plain": "tensor([[1., 2., 3., 4., 5., 6., 7., 8.]])"
     },
     "metadata": {}
    }
   ]
  },
  {
   "cell_type": "markdown",
   "source": "## Much more\n\nThere's definitely much more, but this was the basics about `Tensor`s fun.\n\n*Torch* full API should be read at least once.\nHence, go [here](https://pytorch.org/docs/stable/index.html).\nYou'll find 100+ `Tensor` operations, including transposing, indexing, slicing, mathematical operations, linear algebra, random numbers, etc are described.",
   "metadata": {
    "cell_id": "00088-69abfbb0-a419-4354-bb41-0d5bfcfa8dc7",
    "deepnote_cell_type": "markdown"
   }
  },
  {
   "cell_type": "markdown",
   "source": "<a style='text-decoration:none;line-height:16px;display:flex;color:#5B5B62;padding:10px;justify-content:end;' href='https://deepnote.com?utm_source=created-in-deepnote-cell&projectId=310d7331-290c-4084-b4b3-9339860041ff' target=\"_blank\">\n<img alt='Created in deepnote.com' style='display:inline;max-height:16px;margin:0px;margin-right:7.5px;' src='data:image/svg+xml;base64,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' > </img>\nCreated in <span style='font-weight:600;margin-left:4px;'>Deepnote</span></a>",
   "metadata": {
    "tags": [],
    "created_in_deepnote_cell": true,
    "deepnote_cell_type": "markdown"
   }
  }
 ],
 "nbformat": 4,
 "nbformat_minor": 4,
 "metadata": {
  "kernelspec": {
   "display_name": "Python [conda env:dl-minicourse] *",
   "language": "python",
   "name": "conda-env-dl-minicourse-py"
  },
  "language_info": {
   "codemirror_mode": {
    "name": "ipython",
    "version": 3
   },
   "file_extension": ".py",
   "mimetype": "text/x-python",
   "name": "python",
   "nbconvert_exporter": "python",
   "pygments_lexer": "ipython3",
   "version": "3.7.3"
  },
  "deepnote_notebook_id": "a30ee154-ea08-4d52-8b9a-a7ca011d7bde",
  "deepnote": {},
  "deepnote_execution_queue": []
 }
}