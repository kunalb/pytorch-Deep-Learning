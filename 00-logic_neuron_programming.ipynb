{
 "cells": [
  {
   "cell_type": "markdown",
   "source": "# Code your own neuron and neural net\nThe parts of code that look like\n```python\npass  # ⬅️✏️\n```\nneed to be filled in before moving to the next cell.\n\nCheck out the slides and / or corresponding video lecture for more instructions.",
   "metadata": {
    "cell_id": "00000-07802eef-e00f-4e67-ab57-782560614559",
    "deepnote_cell_type": "markdown"
   }
  },
  {
   "cell_type": "code",
   "metadata": {
    "lines_to_next_cell": 1,
    "cell_id": "00001-665aefbb-07cc-4e76-9ec6-318297b1092d",
    "deepnote_to_be_reexecuted": false,
    "source_hash": "33639ed2",
    "execution_start": 1620831672195,
    "execution_millis": 3,
    "deepnote_cell_type": "code"
   },
   "source": "# Define two vectors (lists): input my_x, weights my_w\nmy_x = [0, 1, 1]\nmy_w = [-10, 10, 5]",
   "execution_count": null,
   "outputs": []
  },
  {
   "cell_type": "code",
   "metadata": {
    "cell_id": "00002-32eb7cee-f0ed-4204-9158-64101a29dd6c",
    "deepnote_to_be_reexecuted": false,
    "source_hash": "fd446e9",
    "execution_start": 1620831672199,
    "execution_millis": 1,
    "deepnote_cell_type": "code"
   },
   "source": "# Multiply two lists element wise\ndef mul(a, b):\n    \"\"\"\n    return a list c, same length as a, element c[i] = a[i] * b[i]\n    \"len(list)\" and \"[0] * n\" may be useful\n    \"\"\"\n    return [x * y for (x, y) in zip(a, b)]",
   "execution_count": null,
   "outputs": []
  },
  {
   "cell_type": "markdown",
   "source": "---",
   "metadata": {
    "cell_id": "00003-4cd21924-6d10-4102-bb0e-7f7d78ea7ad3",
    "deepnote_cell_type": "markdown"
   }
  },
  {
   "cell_type": "code",
   "metadata": {
    "cell_id": "00004-ad036294-c448-49ee-b7fd-1831467a8ffb",
    "deepnote_to_be_reexecuted": false,
    "source_hash": "a6d2ca4a",
    "execution_start": 1620831672204,
    "execution_millis": 53,
    "deepnote_cell_type": "code"
   },
   "source": "# Test mul() function\nmul(my_x, my_w)",
   "execution_count": null,
   "outputs": [
    {
     "output_type": "execute_result",
     "execution_count": 3,
     "data": {
      "text/plain": "[0, 10, 5]"
     },
     "metadata": {}
    }
   ]
  },
  {
   "cell_type": "code",
   "metadata": {
    "lines_to_next_cell": 1,
    "cell_id": "00005-bd9bf62f-f84a-41b0-a59a-cd3d68ba5f67",
    "deepnote_to_be_reexecuted": false,
    "source_hash": "e9fb8d3b",
    "execution_start": 1620831672231,
    "execution_millis": 1,
    "deepnote_cell_type": "code"
   },
   "source": "# Define a scalar: bias b\nmy_b = -5",
   "execution_count": null,
   "outputs": []
  },
  {
   "cell_type": "code",
   "metadata": {
    "cell_id": "00006-1281e9bc-0370-4d06-8b26-4293f22e8c67",
    "deepnote_to_be_reexecuted": false,
    "source_hash": "a3796edb",
    "execution_start": 1620831672232,
    "execution_millis": 0,
    "deepnote_cell_type": "code"
   },
   "source": "# Neuron linear (internal) potential\ndef linear_neuron(x, weights, bias):\n    \"\"\"\n    return a scalar value representing a scalar neuron\n    \"sum(list)\" computes the sum of the elements in a list\n    \"\"\"\n    return sum(mul(x, weights)) + bias",
   "execution_count": null,
   "outputs": []
  },
  {
   "cell_type": "markdown",
   "source": "---",
   "metadata": {
    "cell_id": "00007-5702301c-a325-42df-a1f6-90c82becf187",
    "deepnote_cell_type": "markdown"
   }
  },
  {
   "cell_type": "code",
   "metadata": {
    "cell_id": "00008-822b5f12-068f-4a4c-a120-8481aaa5a8ff",
    "deepnote_to_be_reexecuted": false,
    "source_hash": "6eb495b5",
    "execution_start": 1620831672233,
    "execution_millis": 24,
    "deepnote_cell_type": "code"
   },
   "source": "# Test linear_neuron() function\nlinear_neuron(my_x, my_w, my_b)",
   "execution_count": null,
   "outputs": [
    {
     "output_type": "execute_result",
     "execution_count": 6,
     "data": {
      "text/plain": "10"
     },
     "metadata": {}
    }
   ]
  },
  {
   "cell_type": "code",
   "metadata": {
    "lines_to_next_cell": 1,
    "cell_id": "00009-40f7ee0a-1c79-48a1-91e5-e3f5700b3e8d",
    "deepnote_to_be_reexecuted": false,
    "source_hash": "38703af7",
    "execution_start": 1620831672238,
    "execution_millis": 5,
    "deepnote_cell_type": "code"
   },
   "source": "# Import exp() function (safe on lists)\nfrom numpy import exp",
   "execution_count": null,
   "outputs": []
  },
  {
   "cell_type": "code",
   "metadata": {
    "cell_id": "00010-b78ec4e3-84b0-44d7-b01e-792fdc890739",
    "deepnote_to_be_reexecuted": false,
    "source_hash": "d3360ddf",
    "execution_start": 1620831672244,
    "execution_millis": 3,
    "deepnote_cell_type": "code"
   },
   "source": "# Logistic sigmoid\ndef sigmoid(z):\n    \"\"\"\n    return the logistic sigmoid (use exp())\n    \"\"\"\n    return 1 / (1 + exp(-z))",
   "execution_count": null,
   "outputs": []
  },
  {
   "cell_type": "markdown",
   "source": "---",
   "metadata": {
    "cell_id": "00011-8d7b9552-00a4-41b5-8bdb-47e269ae263b",
    "deepnote_cell_type": "markdown"
   }
  },
  {
   "cell_type": "code",
   "metadata": {
    "cell_id": "00012-ac96d1e3-6a31-420b-81c6-d4c1d85f0e7f",
    "deepnote_to_be_reexecuted": false,
    "source_hash": "f368a98a",
    "execution_start": 1620831672248,
    "execution_millis": 2,
    "deepnote_cell_type": "code"
   },
   "source": "# Try out σ() for different z values\nfor z in (-5, 0, 5): print(sigmoid(z))",
   "execution_count": null,
   "outputs": [
    {
     "name": "stdout",
     "text": "0.0066928509242848554\n0.5\n0.9933071490757153\n",
     "output_type": "stream"
    }
   ]
  },
  {
   "cell_type": "code",
   "metadata": {
    "cell_id": "00013-dbecdad5-2bb2-4f21-a00b-8ec8cb2534f8",
    "deepnote_to_be_reexecuted": false,
    "source_hash": "b0e50924",
    "execution_start": 1620831672301,
    "execution_millis": 800,
    "deepnote_cell_type": "code"
   },
   "source": "# Import some plotting stuff to graph sigmoid()\nfrom numpy import linspace\nfrom matplotlib.pyplot import plot, axhline, axvline, grid, style\nstyle.use('dark_background')",
   "execution_count": null,
   "outputs": []
  },
  {
   "cell_type": "code",
   "metadata": {
    "cell_id": "00014-79926f11-b165-4c9e-8a2d-38547377e7d7",
    "deepnote_to_be_reexecuted": false,
    "source_hash": "ef59b920",
    "execution_start": 1620831673102,
    "execution_millis": 274,
    "deepnote_cell_type": "code"
   },
   "source": "# Get a pair of axis and grid lines centred in (0, 0)\naxhline(c='.2'); axvline(color='.2')\ngrid(c='.1', ls='--')\n\n# Plot across a span of numbers\nz = linspace(-7.5, 7.5)\nplot(z, sigmoid(z));",
   "execution_count": null,
   "outputs": [
    {
     "data": {
      "text/plain": "<Figure size 432x288 with 1 Axes>",
      "image/png": "[encoded data removed]"
     },
     "metadata": {
      "image/png": {
       "width": 372,
       "height": 248
      }
     },
     "output_type": "display_data"
    }
   ]
  },
  {
   "cell_type": "code",
   "metadata": {
    "cell_id": "00015-69136b13-2af8-4d75-a02e-214dd1db1e62",
    "deepnote_to_be_reexecuted": false,
    "source_hash": "27638c3a",
    "execution_start": 1620831673373,
    "execution_millis": 2,
    "deepnote_cell_type": "code"
   },
   "source": "# Full neuron function\ndef neuron(x, weights, bias):\n    \"\"\"\n    Return a classical neuron output (reuse code above)\n    \"\"\"\n    return sigmoid(linear_neuron(x, weights, bias))",
   "execution_count": null,
   "outputs": []
  },
  {
   "cell_type": "markdown",
   "source": "---",
   "metadata": {
    "cell_id": "00016-0098a479-389e-4ce2-943a-fa69d91e045f",
    "deepnote_cell_type": "markdown"
   }
  },
  {
   "cell_type": "code",
   "metadata": {
    "cell_id": "00017-e4195f42-b129-4771-828a-9c050c8ab25c",
    "deepnote_to_be_reexecuted": false,
    "source_hash": "3337210c",
    "execution_start": 1620831673378,
    "execution_millis": 18,
    "deepnote_cell_type": "code"
   },
   "source": "# Test neuron() function\nneuron(my_x, my_w, my_b)",
   "execution_count": null,
   "outputs": [
    {
     "output_type": "execute_result",
     "execution_count": 13,
     "data": {
      "text/plain": "0.9999546021312976"
     },
     "metadata": {}
    }
   ]
  },
  {
   "cell_type": "code",
   "metadata": {
    "lines_to_next_cell": 1,
    "cell_id": "00018-3bc8127d-777e-4b83-994c-f3b73fe60640",
    "deepnote_to_be_reexecuted": false,
    "source_hash": "90118205",
    "execution_start": 1620831673387,
    "execution_millis": 2,
    "deepnote_cell_type": "code"
   },
   "source": "# Package OR neuron weights and bias\ndef or_neuron(x):\n    \"\"\"\n    Return x1 OR x2 (x1 + x2)\n    \"\"\"\n    return x[0] or x[1]",
   "execution_count": null,
   "outputs": []
  },
  {
   "cell_type": "markdown",
   "source": "---",
   "metadata": {
    "cell_id": "00019-fe288824-ee84-4010-8ba0-b8697201abbc",
    "deepnote_cell_type": "markdown"
   }
  },
  {
   "cell_type": "code",
   "metadata": {
    "cell_id": "00020-b1950eb1-b8ef-4db8-a342-44f1a30fef3a",
    "deepnote_to_be_reexecuted": false,
    "source_hash": "f8a26eb4",
    "execution_start": 1620831673393,
    "execution_millis": 3,
    "deepnote_cell_type": "code"
   },
   "source": "# Defina a collection of inputs to test OR and AND\nmy_x_collection = [\n    [0, 0],\n    [0, 1],\n    [1, 0],\n    [1, 1],\n]",
   "execution_count": null,
   "outputs": []
  },
  {
   "cell_type": "code",
   "metadata": {
    "lines_to_next_cell": 1,
    "cell_id": "00021-c4582f1c-7747-49e5-8986-4a88ff163514",
    "deepnote_to_be_reexecuted": false,
    "source_hash": "8f6bd47b",
    "execution_start": 1620831673400,
    "execution_millis": 9,
    "deepnote_cell_type": "code"
   },
   "source": "print('Checking OR neuron output')\nfor my_x in my_x_collection:\n    print(my_x, f'{or_neuron(my_x):.3f}')",
   "execution_count": null,
   "outputs": [
    {
     "name": "stdout",
     "text": "Checking OR neuron output\n[0, 0] 0.000\n[0, 1] 1.000\n[1, 0] 1.000\n[1, 1] 1.000\n",
     "output_type": "stream"
    }
   ]
  },
  {
   "cell_type": "code",
   "metadata": {
    "lines_to_next_cell": 1,
    "cell_id": "00022-b4f21353-52dc-4e42-816d-b30fce6011d4",
    "deepnote_to_be_reexecuted": false,
    "source_hash": "2f4831ee",
    "execution_start": 1620831690956,
    "execution_millis": 1,
    "deepnote_cell_type": "code"
   },
   "source": "# Package AND neuron weights and bias\ndef and_neuron(x):\n    \"\"\"\n    Return x1 AND x2 (x1 * x2)\n    \"\"\"\n    return x[0] and x[1]",
   "execution_count": null,
   "outputs": []
  },
  {
   "cell_type": "markdown",
   "source": "---",
   "metadata": {
    "cell_id": "00023-aae9e466-ed36-4010-9ccf-6ed1822c3eb3",
    "deepnote_cell_type": "markdown"
   }
  },
  {
   "cell_type": "code",
   "metadata": {
    "lines_to_next_cell": 1,
    "cell_id": "00024-7bf9a703-3ca9-4aa2-beb2-cf9b32dbbdbd",
    "deepnote_to_be_reexecuted": false,
    "source_hash": "16505f9f",
    "execution_start": 1620831694361,
    "execution_millis": 8,
    "deepnote_cell_type": "code"
   },
   "source": "print('Checking AND neuron output')\nfor my_x in my_x_collection:\n    print(my_x, f'{and_neuron(my_x):.3f}')",
   "execution_count": null,
   "outputs": [
    {
     "name": "stdout",
     "text": "Checking AND neuron output\n[0, 0] 0.000\n[0, 1] 0.000\n[1, 0] 0.000\n[1, 1] 1.000\n",
     "output_type": "stream"
    }
   ]
  },
  {
   "cell_type": "code",
   "metadata": {
    "lines_to_next_cell": 1,
    "cell_id": "00025-988a74e2-400d-4d87-9a64-3eb1c28de92a",
    "deepnote_to_be_reexecuted": false,
    "source_hash": "89f7890e",
    "execution_start": 1620831706035,
    "execution_millis": 3,
    "deepnote_cell_type": "code"
   },
   "source": "# Package NOT neuron weight and bias\ndef not_neuron(x):\n    \"\"\"\n    Return NOT x1 (x1_)\n    \"\"\"\n    return not x[0]",
   "execution_count": null,
   "outputs": []
  },
  {
   "cell_type": "markdown",
   "source": "---",
   "metadata": {
    "cell_id": "00026-a7393a5c-8b46-4ef3-b67f-d6e1989ee134",
    "deepnote_cell_type": "markdown"
   }
  },
  {
   "cell_type": "code",
   "metadata": {
    "lines_to_next_cell": 1,
    "cell_id": "00027-eb1c746f-ed8b-4229-9777-dba8d15ec5ee",
    "deepnote_to_be_reexecuted": false,
    "source_hash": "3547c4fd",
    "execution_start": 1620831710809,
    "execution_millis": 8,
    "deepnote_cell_type": "code"
   },
   "source": "print('Checking NOT neuron output')\nfor my_x in [[0], [1]]:\n    print(my_x, f'{not_neuron(my_x):.3f}')",
   "execution_count": null,
   "outputs": [
    {
     "name": "stdout",
     "text": "Checking NOT neuron output\n[0] 1.000\n[1] 0.000\n",
     "output_type": "stream"
    }
   ]
  },
  {
   "cell_type": "markdown",
   "source": "![X-OR](res/x-or_circuit.png)",
   "metadata": {
    "cell_id": "00028-03b8e62d-c68e-437b-8d0c-c7f60ae65318",
    "deepnote_cell_type": "markdown"
   }
  },
  {
   "cell_type": "code",
   "metadata": {
    "cell_id": "00029-d416040c-6650-44cf-be05-bc3fcf1618c7",
    "deepnote_to_be_reexecuted": false,
    "source_hash": "6d63c9d",
    "execution_start": 1620831726896,
    "execution_millis": 2,
    "deepnote_cell_type": "code"
   },
   "source": "# Combine OR, AND, and NOT into a XOR neuron\ndef xor_neuron(x):\n    \"\"\"\n    Return x1_ * x2 + x1 * x2_\n    \"\"\"\n    return x[0] ^ x[1]",
   "execution_count": null,
   "outputs": []
  },
  {
   "cell_type": "markdown",
   "source": "---",
   "metadata": {
    "cell_id": "00030-8cce7385-6355-41dc-9688-a4d6323f03ec",
    "deepnote_cell_type": "markdown"
   }
  },
  {
   "cell_type": "code",
   "metadata": {
    "cell_id": "00031-4ee39977-b6ab-4a12-ae93-06fff07e6a26",
    "deepnote_to_be_reexecuted": false,
    "source_hash": "c8234cae",
    "execution_start": 1620831728858,
    "execution_millis": 12,
    "deepnote_cell_type": "code"
   },
   "source": "print('Checking XOR neuron output')\nfor my_x in my_x_collection:\n    print(my_x, f'{xor_neuron(my_x):.3f}')",
   "execution_count": null,
   "outputs": [
    {
     "name": "stdout",
     "text": "Checking XOR neuron output\n[0, 0] 0.000\n[0, 1] 1.000\n[1, 0] 1.000\n[1, 1] 0.000\n",
     "output_type": "stream"
    }
   ]
  },
  {
   "cell_type": "markdown",
   "source": "![Half-adder](res/half-adder_circuit.png)",
   "metadata": {
    "cell_id": "00032-61cdde0d-b583-4513-81b6-0d0b4e1c24f4",
    "deepnote_cell_type": "markdown"
   }
  },
  {
   "cell_type": "code",
   "metadata": {
    "cell_id": "00033-4246e81a-b8c7-47dc-953a-19a057c10d9f",
    "deepnote_to_be_reexecuted": true,
    "source_hash": "4c33bd59",
    "deepnote_cell_type": "code"
   },
   "source": "# Combine a XOR and an AND into a half-adder\n# ⬅️✏️",
   "execution_count": null,
   "outputs": []
  },
  {
   "cell_type": "markdown",
   "source": "---",
   "metadata": {
    "cell_id": "00034-d9b1d7d2-7790-49a2-9033-744685be9b55",
    "deepnote_cell_type": "markdown"
   }
  },
  {
   "cell_type": "markdown",
   "source": "![Adder](res/adder_circuit.png)",
   "metadata": {
    "cell_id": "00035-55cbf2a3-07a5-4080-9c0d-2580eabb67d4",
    "deepnote_cell_type": "markdown"
   }
  },
  {
   "cell_type": "code",
   "metadata": {
    "cell_id": "00036-08461857-2f40-443e-ae54-05cb936d1eaf",
    "deepnote_to_be_reexecuted": true,
    "source_hash": "80c076be",
    "deepnote_cell_type": "code"
   },
   "source": "# Combine two half-adders and an OR into a (full) adder\n# ⬅️✏️",
   "execution_count": null,
   "outputs": []
  },
  {
   "cell_type": "markdown",
   "source": "---",
   "metadata": {
    "cell_id": "00037-74f05daf-f706-43e8-9226-e0b2ad92a027",
    "deepnote_cell_type": "markdown"
   }
  },
  {
   "cell_type": "markdown",
   "source": "<a style='text-decoration:none;line-height:16px;display:flex;color:#5B5B62;padding:10px;justify-content:end;' href='https://deepnote.com?utm_source=created-in-deepnote-cell&projectId=310d7331-290c-4084-b4b3-9339860041ff' target=\"_blank\">\n<img alt='Created in deepnote.com' style='display:inline;max-height:16px;margin:0px;margin-right:7.5px;' src='data:image/svg+xml;base64,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' > </img>\nCreated in <span style='font-weight:600;margin-left:4px;'>Deepnote</span></a>",
   "metadata": {
    "tags": [],
    "created_in_deepnote_cell": true,
    "deepnote_cell_type": "markdown"
   }
  }
 ],
 "nbformat": 4,
 "nbformat_minor": 2,
 "metadata": {
  "jupytext": {
   "encoding": "# -*- coding: utf-8 -*-"
  },
  "kernelspec": {
   "display_name": "Python 3",
   "language": "python",
   "name": "python3"
  },
  "language_info": {
   "codemirror_mode": {
    "name": "ipython",
    "version": 3
   },
   "file_extension": ".py",
   "mimetype": "text/x-python",
   "name": "python",
   "nbconvert_exporter": "python",
   "pygments_lexer": "ipython3",
   "version": "3.7.4"
  },
  "deepnote_notebook_id": "3cda2ec1-5de7-4d04-881e-b8d08e5b1ce6",
  "deepnote": {},
  "deepnote_execution_queue": []
 }
}