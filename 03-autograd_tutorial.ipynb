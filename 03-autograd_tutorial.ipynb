{
 "cells": [
  {
   "cell_type": "markdown",
   "source": "# Autograd: automatic differentiation\n\nThe ``autograd`` package provides automatic differentiation for all operations\non Tensors. It is a define-by-run framework, which means that your backprop is\ndefined by how your code is run, and that every single iteration can be\ndifferent.",
   "metadata": {
    "cell_id": "00000-89250083-b465-4379-ae42-daf2285be67d",
    "deepnote_cell_type": "markdown"
   }
  },
  {
   "cell_type": "code",
   "metadata": {
    "cell_id": "00001-096caab4-013f-4cd6-8269-4640d866ce4e",
    "deepnote_to_be_reexecuted": false,
    "source_hash": "dd32fe6c",
    "execution_start": 1621871693089,
    "execution_millis": 633,
    "deepnote_cell_type": "code"
   },
   "source": "import torch",
   "outputs": [],
   "execution_count": null
  },
  {
   "cell_type": "markdown",
   "source": "Create a tensor:",
   "metadata": {
    "cell_id": "00002-fe97641c-ea56-4f45-9f1a-fa13c526833b",
    "deepnote_cell_type": "markdown"
   }
  },
  {
   "cell_type": "code",
   "metadata": {
    "cell_id": "00003-4b30aa93-e11e-4c3d-9b02-929ee2137920",
    "deepnote_to_be_reexecuted": false,
    "source_hash": "b81072e6",
    "execution_start": 1621871693729,
    "execution_millis": 53,
    "deepnote_cell_type": "code"
   },
   "source": "# Create a 2x2 tensor with gradient-accumulation capabilities\nx = torch.tensor([[1, 2], [3, 4]], requires_grad=True, dtype=torch.float32)\nprint(x)",
   "outputs": [
    {
     "name": "stdout",
     "text": "tensor([[1., 2.],\n        [3., 4.]], requires_grad=True)\n",
     "output_type": "stream"
    }
   ],
   "execution_count": null
  },
  {
   "cell_type": "markdown",
   "source": "Do an operation on the tensor:",
   "metadata": {
    "cell_id": "00004-1d0f9517-53ab-4a31-a0ab-6eb721aa877b",
    "deepnote_cell_type": "markdown"
   }
  },
  {
   "cell_type": "code",
   "metadata": {
    "cell_id": "00005-98b1850f-d686-4f79-9239-f0104902174a",
    "deepnote_to_be_reexecuted": false,
    "source_hash": "d29d9ac",
    "execution_start": 1621871693778,
    "execution_millis": 10,
    "deepnote_cell_type": "code"
   },
   "source": "# Deduct 2 from all elements\ny = x - 2\ny.retain_grad()\nprint(y)",
   "outputs": [
    {
     "name": "stdout",
     "text": "tensor([[-1.,  0.],\n        [ 1.,  2.]], grad_fn=<SubBackward0>)\n",
     "output_type": "stream"
    }
   ],
   "execution_count": null
  },
  {
   "cell_type": "markdown",
   "source": "``y`` was created as a result of an operation, so it has a ``grad_fn``.\n\n",
   "metadata": {
    "cell_id": "00006-c32b528c-4330-408a-84c4-6ebb64c07e13",
    "deepnote_cell_type": "markdown"
   }
  },
  {
   "cell_type": "code",
   "metadata": {
    "cell_id": "00007-cf8c99f6-d0f4-4fd7-8d18-88f996e2314a",
    "deepnote_to_be_reexecuted": false,
    "source_hash": "d7116140",
    "execution_start": 1621871693786,
    "execution_millis": 2,
    "deepnote_cell_type": "code"
   },
   "source": "print(y.grad_fn)",
   "outputs": [
    {
     "name": "stdout",
     "text": "<SubBackward0 object at 0x7f04951ca9d0>\n",
     "output_type": "stream"
    }
   ],
   "execution_count": null
  },
  {
   "cell_type": "code",
   "metadata": {
    "cell_id": "00008-8034c876-a2bf-4b48-a7c8-f298637bcc82",
    "deepnote_to_be_reexecuted": false,
    "source_hash": "a7adee7b",
    "execution_start": 1621871693817,
    "execution_millis": 7,
    "deepnote_cell_type": "code"
   },
   "source": "# What's happening here?\nprint(x.grad_fn)",
   "outputs": [],
   "execution_count": null
  },
  {
   "cell_type": "code",
   "metadata": {
    "cell_id": "00009-e92ea264-6766-4c06-8284-19a66361e671",
    "deepnote_to_be_reexecuted": false,
    "source_hash": "d3a1603e",
    "execution_start": 1621871693817,
    "execution_millis": 43,
    "deepnote_cell_type": "code"
   },
   "source": "\n# Let's dig further...\ny.grad_fn",
   "outputs": [
    {
     "output_type": "execute_result",
     "execution_count": 6,
     "data": {
      "text/plain": "<SubBackward0 at 0x7f04951d9850>"
     },
     "metadata": {}
    }
   ],
   "execution_count": null
  },
  {
   "cell_type": "code",
   "metadata": {
    "cell_id": "00010-cf866397-7132-497b-9641-7b8a2e83213d",
    "deepnote_to_be_reexecuted": false,
    "source_hash": "f4ca6cf4",
    "execution_start": 1621871693818,
    "execution_millis": 43,
    "deepnote_cell_type": "code"
   },
   "source": "y.grad_fn.next_functions[0][0]",
   "outputs": [
    {
     "output_type": "execute_result",
     "execution_count": 7,
     "data": {
      "text/plain": "<AccumulateGrad at 0x7f04951ef050>"
     },
     "metadata": {}
    }
   ],
   "execution_count": null
  },
  {
   "cell_type": "code",
   "metadata": {
    "cell_id": "00011-ec9ae0c4-3014-4255-b2a6-7a283a1ccf11",
    "deepnote_to_be_reexecuted": false,
    "source_hash": "573c0a0f",
    "execution_start": 1621871693827,
    "execution_millis": 34,
    "deepnote_cell_type": "code"
   },
   "source": "y.grad_fn.next_functions[0][0].variable",
   "outputs": [
    {
     "output_type": "execute_result",
     "execution_count": 8,
     "data": {
      "text/plain": "tensor([[1., 2.],\n        [3., 4.]], requires_grad=True)"
     },
     "metadata": {}
    }
   ],
   "execution_count": null
  },
  {
   "cell_type": "code",
   "metadata": {
    "cell_id": "00012-6624909f-9736-4bee-a8ed-f337a1db85c3",
    "deepnote_to_be_reexecuted": false,
    "source_hash": "7e16d144",
    "execution_start": 1621871693832,
    "execution_millis": 29,
    "deepnote_cell_type": "code"
   },
   "source": "# Do more operations on y\nz = y * y * 3\nz.retain_grad()\na = z.mean()  # average\n\nprint(z)\nprint(a)",
   "outputs": [
    {
     "name": "stdout",
     "text": "tensor([[ 3.,  0.],\n        [ 3., 12.]], grad_fn=<MulBackward0>)\ntensor(4.5000, grad_fn=<MeanBackward0>)\n",
     "output_type": "stream"
    }
   ],
   "execution_count": null
  },
  {
   "cell_type": "code",
   "metadata": {
    "cell_id": "00013-2dca71d8-0211-4d3e-81b8-36318efaa070",
    "deepnote_to_be_reexecuted": false,
    "source_hash": "64909d21",
    "execution_start": 1621871693844,
    "execution_millis": 6,
    "deepnote_cell_type": "code"
   },
   "source": "# Let's visualise the computational graph! (thks @szagoruyko)\nfrom torchviz import make_dot",
   "outputs": [],
   "execution_count": null
  },
  {
   "cell_type": "code",
   "metadata": {
    "cell_id": "00014-3384b3da-294b-4dfe-a008-cc010b5c2e4f",
    "deepnote_to_be_reexecuted": false,
    "source_hash": "d1773e2e",
    "execution_start": 1621871693850,
    "execution_millis": 121,
    "deepnote_cell_type": "code"
   },
   "source": "make_dot(a)",
   "outputs": [
    {
     "output_type": "execute_result",
     "execution_count": 11,
     "data": {
      "text/plain": "<graphviz.dot.Digraph at 0x7f049518e510>",
      "image/svg+xml": "<?xml version=\"1.0\" encoding=\"UTF-8\" standalone=\"no\"?>\n<!DOCTYPE svg PUBLIC \"-//W3C//DTD SVG 1.1//EN\"\n \"http://www.w3.org/Graphics/SVG/1.1/DTD/svg11.dtd\">\n<!-- Generated by graphviz version 2.40.1 (20161225.0304)\n -->\n<!-- Title: %3 Pages: 1 -->\n<svg width=\"109pt\" height=\"381pt\"\n viewBox=\"0.00 0.00 109.00 381.00\" xmlns=\"http://www.w3.org/2000/svg\" xmlns:xlink=\"http://www.w3.org/1999/xlink\">\n<g id=\"graph0\" class=\"graph\" transform=\"scale(1 1) rotate(0) translate(4 377)\">\n<title>%3</title>\n<polygon fill=\"#ffffff\" stroke=\"transparent\" points=\"-4,4 -4,-377 105,-377 105,4 -4,4\"/>\n<!-- 139657658303344 -->\n<g id=\"node1\" class=\"node\">\n<title>139657658303344</title>\n<polygon fill=\"#caff70\" stroke=\"#000000\" points=\"77.5,-31 23.5,-31 23.5,0 77.5,0 77.5,-31\"/>\n<text text-anchor=\"middle\" x=\"50.5\" y=\"-7\" font-family=\"monospace\" font-size=\"10.00\" fill=\"#000000\"> ()</text>\n</g>\n<!-- 139657658033552 -->\n<g id=\"node2\" class=\"node\">\n<title>139657658033552</title>\n<polygon fill=\"#d3d3d3\" stroke=\"#000000\" points=\"98,-86 3,-86 3,-67 98,-67 98,-86\"/>\n<text text-anchor=\"middle\" x=\"50.5\" y=\"-74\" font-family=\"monospace\" font-size=\"10.00\" fill=\"#000000\">MeanBackward0</text>\n</g>\n<!-- 139657658033552&#45;&gt;139657658303344 -->\n<g id=\"edge7\" class=\"edge\">\n<title>139657658033552&#45;&gt;139657658303344</title>\n<path fill=\"none\" stroke=\"#000000\" d=\"M50.5,-66.9688C50.5,-60.1289 50.5,-50.5621 50.5,-41.5298\"/>\n<polygon fill=\"#000000\" stroke=\"#000000\" points=\"54.0001,-41.3678 50.5,-31.3678 47.0001,-41.3678 54.0001,-41.3678\"/>\n</g>\n<!-- 139659171933904 -->\n<g id=\"node3\" class=\"node\">\n<title>139659171933904</title>\n<polygon fill=\"#d3d3d3\" stroke=\"#000000\" points=\"95,-141 6,-141 6,-122 95,-122 95,-141\"/>\n<text text-anchor=\"middle\" x=\"50.5\" y=\"-129\" font-family=\"monospace\" font-size=\"10.00\" fill=\"#000000\">MulBackward0</text>\n</g>\n<!-- 139659171933904&#45;&gt;139657658033552 -->\n<g id=\"edge1\" class=\"edge\">\n<title>139659171933904&#45;&gt;139657658033552</title>\n<path fill=\"none\" stroke=\"#000000\" d=\"M50.5,-121.9197C50.5,-114.9083 50.5,-105.1442 50.5,-96.4652\"/>\n<polygon fill=\"#000000\" stroke=\"#000000\" points=\"54.0001,-96.3408 50.5,-86.3408 47.0001,-96.3409 54.0001,-96.3408\"/>\n</g>\n<!-- 139657658033936 -->\n<g id=\"node4\" class=\"node\">\n<title>139657658033936</title>\n<polygon fill=\"#d3d3d3\" stroke=\"#000000\" points=\"95,-196 6,-196 6,-177 95,-177 95,-196\"/>\n<text text-anchor=\"middle\" x=\"50.5\" y=\"-184\" font-family=\"monospace\" font-size=\"10.00\" fill=\"#000000\">MulBackward0</text>\n</g>\n<!-- 139657658033936&#45;&gt;139659171933904 -->\n<g id=\"edge2\" class=\"edge\">\n<title>139657658033936&#45;&gt;139659171933904</title>\n<path fill=\"none\" stroke=\"#000000\" d=\"M50.5,-176.9197C50.5,-169.9083 50.5,-160.1442 50.5,-151.4652\"/>\n<polygon fill=\"#000000\" stroke=\"#000000\" points=\"54.0001,-151.3408 50.5,-141.3408 47.0001,-151.3409 54.0001,-151.3408\"/>\n</g>\n<!-- 139657658341456 -->\n<g id=\"node5\" class=\"node\">\n<title>139657658341456</title>\n<polygon fill=\"#d3d3d3\" stroke=\"#000000\" points=\"95,-251 6,-251 6,-232 95,-232 95,-251\"/>\n<text text-anchor=\"middle\" x=\"50.5\" y=\"-239\" font-family=\"monospace\" font-size=\"10.00\" fill=\"#000000\">SubBackward0</text>\n</g>\n<!-- 139657658341456&#45;&gt;139657658033936 -->\n<g id=\"edge3\" class=\"edge\">\n<title>139657658341456&#45;&gt;139657658033936</title>\n<path fill=\"none\" stroke=\"#000000\" d=\"M45.2332,-231.9197C43.8546,-224.9083 43.4371,-215.1442 43.9804,-206.4652\"/>\n<polygon fill=\"#000000\" stroke=\"#000000\" points=\"47.479,-206.6838 45.1826,-196.3408 40.5278,-205.8583 47.479,-206.6838\"/>\n</g>\n<!-- 139657658341456&#45;&gt;139657658033936 -->\n<g id=\"edge6\" class=\"edge\">\n<title>139657658341456&#45;&gt;139657658033936</title>\n<path fill=\"none\" stroke=\"#000000\" d=\"M55.7668,-231.9197C57.1454,-224.9083 57.5629,-215.1442 57.0196,-206.4652\"/>\n<polygon fill=\"#000000\" stroke=\"#000000\" points=\"60.4722,-205.8583 55.8174,-196.3408 53.521,-206.6838 60.4722,-205.8583\"/>\n</g>\n<!-- 139657658429520 -->\n<g id=\"node6\" class=\"node\">\n<title>139657658429520</title>\n<polygon fill=\"#d3d3d3\" stroke=\"#000000\" points=\"101,-306 0,-306 0,-287 101,-287 101,-306\"/>\n<text text-anchor=\"middle\" x=\"50.5\" y=\"-294\" font-family=\"monospace\" font-size=\"10.00\" fill=\"#000000\">AccumulateGrad</text>\n</g>\n<!-- 139657658429520&#45;&gt;139657658341456 -->\n<g id=\"edge4\" class=\"edge\">\n<title>139657658429520&#45;&gt;139657658341456</title>\n<path fill=\"none\" stroke=\"#000000\" d=\"M50.5,-286.9197C50.5,-279.9083 50.5,-270.1442 50.5,-261.4652\"/>\n<polygon fill=\"#000000\" stroke=\"#000000\" points=\"54.0001,-261.3408 50.5,-251.3408 47.0001,-261.3409 54.0001,-261.3408\"/>\n</g>\n<!-- 139657658310080 -->\n<g id=\"node7\" class=\"node\">\n<title>139657658310080</title>\n<polygon fill=\"#add8e6\" stroke=\"#000000\" points=\"80,-373 21,-373 21,-342 80,-342 80,-373\"/>\n<text text-anchor=\"middle\" x=\"50.5\" y=\"-349\" font-family=\"monospace\" font-size=\"10.00\" fill=\"#000000\"> (2, 2)</text>\n</g>\n<!-- 139657658310080&#45;&gt;139657658429520 -->\n<g id=\"edge5\" class=\"edge\">\n<title>139657658310080&#45;&gt;139657658429520</title>\n<path fill=\"none\" stroke=\"#000000\" d=\"M50.5,-341.791C50.5,-334.0249 50.5,-324.5706 50.5,-316.3129\"/>\n<polygon fill=\"#000000\" stroke=\"#000000\" points=\"54.0001,-316.0647 50.5,-306.0648 47.0001,-316.0648 54.0001,-316.0647\"/>\n</g>\n</g>\n</svg>\n"
     },
     "metadata": {}
    }
   ],
   "execution_count": null
  },
  {
   "cell_type": "markdown",
   "source": "## Gradients\n\nLet's backprop now `out.backward()` is equivalent to doing `out.backward(torch.tensor([1.0]))`",
   "metadata": {
    "cell_id": "00015-11900f97-bdc4-4099-950a-97076972580d",
    "deepnote_cell_type": "markdown"
   }
  },
  {
   "cell_type": "code",
   "metadata": {
    "cell_id": "00016-af05136a-4c49-4130-baca-35263bca45a7",
    "deepnote_to_be_reexecuted": false,
    "source_hash": "d1d32ca3",
    "execution_start": 1621871693969,
    "execution_millis": 8,
    "deepnote_cell_type": "code"
   },
   "source": "# Backprop\na.backward()",
   "outputs": [],
   "execution_count": null
  },
  {
   "cell_type": "markdown",
   "source": "Print gradients $\\frac{\\text{d}a}{\\text{d}x}$.\n\n\n",
   "metadata": {
    "cell_id": "00017-64cf40ca-a9d5-465b-8aaa-44467a67022a",
    "deepnote_cell_type": "markdown"
   }
  },
  {
   "cell_type": "code",
   "metadata": {
    "tags": [],
    "cell_id": "00018-9e634935-ce77-41db-b7cf-5c210a49117c",
    "deepnote_to_be_reexecuted": false,
    "source_hash": "7394861b",
    "execution_start": 1621871693980,
    "execution_millis": 28,
    "deepnote_cell_type": "code"
   },
   "source": "z.grad",
   "outputs": [
    {
     "output_type": "execute_result",
     "execution_count": 13,
     "data": {
      "text/plain": "tensor([[0.2500, 0.2500],\n        [0.2500, 0.2500]])"
     },
     "metadata": {}
    }
   ],
   "execution_count": null
  },
  {
   "cell_type": "code",
   "source": "y.grad",
   "metadata": {
    "tags": [],
    "cell_id": "00019-c4bde455-70e0-4a02-9c4f-eaa802f23289",
    "deepnote_to_be_reexecuted": false,
    "source_hash": "d52053ee",
    "execution_start": 1621871693994,
    "execution_millis": 14,
    "deepnote_cell_type": "code"
   },
   "outputs": [
    {
     "output_type": "execute_result",
     "execution_count": 14,
     "data": {
      "text/plain": "tensor([[-1.5000,  0.0000],\n        [ 1.5000,  3.0000]])"
     },
     "metadata": {}
    }
   ],
   "execution_count": null
  },
  {
   "cell_type": "code",
   "metadata": {
    "cell_id": "00018-a53f5674-e944-455e-8083-6a3263896638",
    "deepnote_to_be_reexecuted": false,
    "source_hash": "ac8d608c",
    "execution_start": 1621871693997,
    "execution_millis": 11,
    "deepnote_cell_type": "code"
   },
   "source": "# Compute it by hand BEFORE executing this\nprint(x.grad)",
   "outputs": [
    {
     "name": "stdout",
     "text": "tensor([[-1.5000,  0.0000],\n        [ 1.5000,  3.0000]])\n",
     "output_type": "stream"
    }
   ],
   "execution_count": null
  },
  {
   "cell_type": "markdown",
   "source": "You can do many crazy things with autograd!\n> With Great *Flexibility* Comes Great Responsibility",
   "metadata": {
    "cell_id": "00019-3a16dae4-3dfd-44d6-b390-d4d0da1acfc8",
    "deepnote_cell_type": "markdown"
   }
  },
  {
   "cell_type": "code",
   "metadata": {
    "cell_id": "00020-3ebdfad7-bc02-4610-b64d-d8a979836f93",
    "deepnote_to_be_reexecuted": false,
    "source_hash": "5f956724",
    "execution_start": 1621871694003,
    "execution_millis": 15,
    "deepnote_cell_type": "code"
   },
   "source": "# Dynamic graphs!\nx = torch.randn(3, requires_grad=True)\n\ny = x * 2\ni = 0\nwhile y.data.norm() < 1000:\n    y = y * 2\n    i += 1\nprint(y)",
   "outputs": [
    {
     "name": "stdout",
     "text": "tensor([   45.8476, -1014.8668,  1310.3350], grad_fn=<MulBackward0>)\n",
     "output_type": "stream"
    }
   ],
   "execution_count": null
  },
  {
   "cell_type": "code",
   "metadata": {
    "cell_id": "00021-5ae7ea5a-2959-4738-9954-b56ed5a259ec",
    "deepnote_to_be_reexecuted": false,
    "source_hash": "fd6ad012",
    "execution_start": 1621871694019,
    "execution_millis": 16,
    "deepnote_cell_type": "code"
   },
   "source": "# If we don't run backward on a scalar we need to specify the grad_output\ngradients = torch.FloatTensor([0.1, 1.0, 0.0001])\ny.backward(gradients)\n\nprint(x.grad)",
   "outputs": [
    {
     "name": "stdout",
     "text": "tensor([1.0240e+02, 1.0240e+03, 1.0240e-01])\n",
     "output_type": "stream"
    }
   ],
   "execution_count": null
  },
  {
   "cell_type": "code",
   "metadata": {
    "cell_id": "00022-e3c44be8-3165-45db-8dbb-3e82b33731f7",
    "deepnote_to_be_reexecuted": false,
    "source_hash": "5708b5e0",
    "execution_start": 1621871694026,
    "execution_millis": 37,
    "deepnote_cell_type": "code"
   },
   "source": "# BEFORE executing this, can you tell what would you expect it to print?\nprint(i)",
   "outputs": [
    {
     "name": "stdout",
     "text": "9\n",
     "output_type": "stream"
    }
   ],
   "execution_count": null
  },
  {
   "cell_type": "markdown",
   "source": "## Inference",
   "metadata": {
    "cell_id": "00023-c92577d5-551d-43a1-9105-b0df130fc00f",
    "deepnote_cell_type": "markdown"
   }
  },
  {
   "cell_type": "code",
   "metadata": {
    "cell_id": "00024-12a04f0a-28f6-4953-992c-daf65291aac1",
    "deepnote_to_be_reexecuted": false,
    "source_hash": "e66013b7",
    "execution_start": 1621871694055,
    "execution_millis": 1,
    "deepnote_cell_type": "code"
   },
   "source": "# This variable decides the tensor's range below\nn = 3",
   "outputs": [],
   "execution_count": null
  },
  {
   "cell_type": "code",
   "metadata": {
    "cell_id": "00025-973f401c-91bd-4c92-b5f5-1ca43458b628",
    "deepnote_to_be_reexecuted": false,
    "source_hash": "d622c6f9",
    "execution_start": 1621871694056,
    "execution_millis": 7,
    "deepnote_cell_type": "code"
   },
   "source": "# Both x and w that allows gradient accumulation\nx = torch.arange(1., n + 1, requires_grad=True)\nw = torch.ones(n, requires_grad=True)\nz = w @ x\nz.backward()\nprint(x.grad, w.grad, sep='\\n')",
   "outputs": [
    {
     "name": "stdout",
     "text": "tensor([1., 1., 1.])\ntensor([1., 2., 3.])\n",
     "output_type": "stream"
    }
   ],
   "execution_count": null
  },
  {
   "cell_type": "code",
   "metadata": {
    "cell_id": "00026-7dd2fd86-45f3-4dce-8850-14247246a2aa",
    "deepnote_to_be_reexecuted": false,
    "source_hash": "962a43fe",
    "execution_start": 1621871694057,
    "execution_millis": 6,
    "deepnote_cell_type": "code"
   },
   "source": "# Only w that allows gradient accumulation\nx = torch.arange(1., n + 1)\nw = torch.ones(n, requires_grad=True)\nz = w @ x\nz.backward()\nprint(x.grad, w.grad, sep='\\n')",
   "outputs": [
    {
     "name": "stdout",
     "text": "None\ntensor([1., 2., 3.])\n",
     "output_type": "stream"
    }
   ],
   "execution_count": null
  },
  {
   "cell_type": "code",
   "metadata": {
    "cell_id": "00027-40c3f194-3938-466c-a3e0-7636594435e4",
    "deepnote_to_be_reexecuted": false,
    "source_hash": "f88c86b2",
    "execution_start": 1621871694060,
    "execution_millis": 7,
    "deepnote_cell_type": "code"
   },
   "source": "x = torch.arange(1., n + 1)\nw = torch.ones(n, requires_grad=True)\n\n# Regardless of what you do in this context, all torch tensors will not have gradient accumulation\nwith torch.no_grad():\n    z = w @ x\n\ntry:\n    z.backward()  # PyTorch will throw an error here, since z has no grad accum.\nexcept RuntimeError as e:\n    print('RuntimeError!!! >:[')\n    print(e)",
   "outputs": [
    {
     "name": "stdout",
     "text": "RuntimeError!!! >:[\nelement 0 of tensors does not require grad and does not have a grad_fn\n",
     "output_type": "stream"
    }
   ],
   "execution_count": null
  },
  {
   "cell_type": "markdown",
   "source": "## More stuff\n\nDocumentation of the automatic differentiation package is at\nhttp://pytorch.org/docs/autograd.",
   "metadata": {
    "cell_id": "00028-7bf6b84d-10fe-41ea-a63e-4442229c8e7c",
    "deepnote_cell_type": "markdown"
   }
  },
  {
   "cell_type": "markdown",
   "source": "<a style='text-decoration:none;line-height:16px;display:flex;color:#5B5B62;padding:10px;justify-content:end;' href='https://deepnote.com?utm_source=created-in-deepnote-cell&projectId=310d7331-290c-4084-b4b3-9339860041ff' target=\"_blank\">\n<img alt='Created in deepnote.com' style='display:inline;max-height:16px;margin:0px;margin-right:7.5px;' src='data:image/svg+xml;base64,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' > </img>\nCreated in <span style='font-weight:600;margin-left:4px;'>Deepnote</span></a>",
   "metadata": {
    "tags": [],
    "created_in_deepnote_cell": true,
    "deepnote_cell_type": "markdown"
   }
  }
 ],
 "nbformat": 4,
 "nbformat_minor": 4,
 "metadata": {
  "kernelspec": {
   "display_name": "Python [conda env:pDL] *",
   "language": "python",
   "name": "conda-env-pDL-py"
  },
  "language_info": {
   "codemirror_mode": {
    "name": "ipython",
    "version": 3
   },
   "file_extension": ".py",
   "mimetype": "text/x-python",
   "name": "python",
   "nbconvert_exporter": "python",
   "pygments_lexer": "ipython3",
   "version": "3.8.1"
  },
  "deepnote_notebook_id": "6cd8ec64-06ce-4117-b7a8-34e3c0e583d2",
  "deepnote": {},
  "deepnote_execution_queue": []
 }
}